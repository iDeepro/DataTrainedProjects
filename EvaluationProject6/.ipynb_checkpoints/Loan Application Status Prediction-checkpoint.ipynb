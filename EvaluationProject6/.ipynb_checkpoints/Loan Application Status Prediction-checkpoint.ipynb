{
 "cells": [
  {
   "cell_type": "markdown",
   "metadata": {},
   "source": [
    "# Loan Application Acceptance Prediction"
   ]
  },
  {
   "cell_type": "markdown",
   "metadata": {},
   "source": [
    "#### Content\n",
    "1. [Introduction: The Problem](#1)\n",
    "2. [Data](#2)\n",
    "3. [Exploratory Data Analysis](#3)\n",
    "4. [Preprocessing & Analysis](#4)\n",
    "5. [Hyper Parameter Tuning & Model Saving](#5)"
   ]
  },
  {
   "cell_type": "markdown",
   "metadata": {},
   "source": [
    "## Introduction: The Problem <a name='1'></a>"
   ]
  },
  {
   "cell_type": "markdown",
   "metadata": {},
   "source": [
    "Taking a loan can be a lengthy process. It involves a lot of paperwork as well as scrutiny before a loan can be sanctioned to an applicant. While attempts have have been made to simplify this process and make getting a loan quicker, there is still room for improvement. One way it can be done is by employing machine learning algorithms which can do the initial application screening so that candidates with a higher chance of getting a loan application approved are attended to first and give priority.\n",
    "\n",
    "In this project, we will try to train a model to predict whether a candidates loan application will get approved or not based on some given information"
   ]
  },
  {
   "cell_type": "code",
   "execution_count": 1,
   "metadata": {},
   "outputs": [],
   "source": [
    "import numpy as np\n",
    "import pandas as pd\n",
    "\n",
    "import seaborn as sns\n",
    "import matplotlib.pyplot as plt\n",
    "\n",
    "from scipy import stats\n",
    "\n",
    "from sklearn.preprocessing import StandardScaler, OneHotEncoder, LabelEncoder\n",
    "from sklearn.compose import make_column_transformer\n",
    "from imblearn.over_sampling import RandomOverSampler\n",
    "\n",
    "from sklearn.model_selection import train_test_split\n",
    "from sklearn.neighbors import KNeighborsClassifier\n",
    "from sklearn.ensemble import AdaBoostClassifier\n",
    "from sklearn.tree import DecisionTreeClassifier\n",
    "from sklearn.linear_model import LogisticRegression\n",
    "from sklearn.svm import SVC\n",
    "from sklearn.ensemble import RandomForestClassifier\n",
    "\n",
    "from sklearn.metrics import f1_score\n",
    "from sklearn.metrics import accuracy_score\n",
    "from sklearn.metrics import confusion_matrix\n",
    "from sklearn.metrics import classification_report\n",
    "from sklearn.model_selection import cross_val_score\n",
    "\n",
    "from sklearn.model_selection import GridSearchCV\n",
    "\n",
    "import warnings\n",
    "warnings.filterwarnings('ignore')"
   ]
  },
  {
   "cell_type": "markdown",
   "metadata": {},
   "source": [
    "## Data <a name = '2'></a>"
   ]
  },
  {
   "cell_type": "code",
   "execution_count": 2,
   "metadata": {},
   "outputs": [
    {
     "data": {
      "text/html": [
       "<div>\n",
       "<style scoped>\n",
       "    .dataframe tbody tr th:only-of-type {\n",
       "        vertical-align: middle;\n",
       "    }\n",
       "\n",
       "    .dataframe tbody tr th {\n",
       "        vertical-align: top;\n",
       "    }\n",
       "\n",
       "    .dataframe thead th {\n",
       "        text-align: right;\n",
       "    }\n",
       "</style>\n",
       "<table border=\"1\" class=\"dataframe\">\n",
       "  <thead>\n",
       "    <tr style=\"text-align: right;\">\n",
       "      <th></th>\n",
       "      <th>Loan_ID</th>\n",
       "      <th>Gender</th>\n",
       "      <th>Married</th>\n",
       "      <th>Dependents</th>\n",
       "      <th>Education</th>\n",
       "      <th>Self_Employed</th>\n",
       "      <th>ApplicantIncome</th>\n",
       "      <th>CoapplicantIncome</th>\n",
       "      <th>LoanAmount</th>\n",
       "      <th>Loan_Amount_Term</th>\n",
       "      <th>Credit_History</th>\n",
       "      <th>Property_Area</th>\n",
       "      <th>Loan_Status</th>\n",
       "    </tr>\n",
       "  </thead>\n",
       "  <tbody>\n",
       "    <tr>\n",
       "      <th>0</th>\n",
       "      <td>LP001002</td>\n",
       "      <td>Male</td>\n",
       "      <td>No</td>\n",
       "      <td>0</td>\n",
       "      <td>Graduate</td>\n",
       "      <td>No</td>\n",
       "      <td>5849</td>\n",
       "      <td>0.0</td>\n",
       "      <td>NaN</td>\n",
       "      <td>360.0</td>\n",
       "      <td>1.0</td>\n",
       "      <td>Urban</td>\n",
       "      <td>Y</td>\n",
       "    </tr>\n",
       "    <tr>\n",
       "      <th>1</th>\n",
       "      <td>LP001003</td>\n",
       "      <td>Male</td>\n",
       "      <td>Yes</td>\n",
       "      <td>1</td>\n",
       "      <td>Graduate</td>\n",
       "      <td>No</td>\n",
       "      <td>4583</td>\n",
       "      <td>1508.0</td>\n",
       "      <td>128.0</td>\n",
       "      <td>360.0</td>\n",
       "      <td>1.0</td>\n",
       "      <td>Rural</td>\n",
       "      <td>N</td>\n",
       "    </tr>\n",
       "    <tr>\n",
       "      <th>2</th>\n",
       "      <td>LP001005</td>\n",
       "      <td>Male</td>\n",
       "      <td>Yes</td>\n",
       "      <td>0</td>\n",
       "      <td>Graduate</td>\n",
       "      <td>Yes</td>\n",
       "      <td>3000</td>\n",
       "      <td>0.0</td>\n",
       "      <td>66.0</td>\n",
       "      <td>360.0</td>\n",
       "      <td>1.0</td>\n",
       "      <td>Urban</td>\n",
       "      <td>Y</td>\n",
       "    </tr>\n",
       "    <tr>\n",
       "      <th>3</th>\n",
       "      <td>LP001006</td>\n",
       "      <td>Male</td>\n",
       "      <td>Yes</td>\n",
       "      <td>0</td>\n",
       "      <td>Not Graduate</td>\n",
       "      <td>No</td>\n",
       "      <td>2583</td>\n",
       "      <td>2358.0</td>\n",
       "      <td>120.0</td>\n",
       "      <td>360.0</td>\n",
       "      <td>1.0</td>\n",
       "      <td>Urban</td>\n",
       "      <td>Y</td>\n",
       "    </tr>\n",
       "    <tr>\n",
       "      <th>4</th>\n",
       "      <td>LP001008</td>\n",
       "      <td>Male</td>\n",
       "      <td>No</td>\n",
       "      <td>0</td>\n",
       "      <td>Graduate</td>\n",
       "      <td>No</td>\n",
       "      <td>6000</td>\n",
       "      <td>0.0</td>\n",
       "      <td>141.0</td>\n",
       "      <td>360.0</td>\n",
       "      <td>1.0</td>\n",
       "      <td>Urban</td>\n",
       "      <td>Y</td>\n",
       "    </tr>\n",
       "  </tbody>\n",
       "</table>\n",
       "</div>"
      ],
      "text/plain": [
       "    Loan_ID Gender Married Dependents     Education Self_Employed  \\\n",
       "0  LP001002   Male      No          0      Graduate            No   \n",
       "1  LP001003   Male     Yes          1      Graduate            No   \n",
       "2  LP001005   Male     Yes          0      Graduate           Yes   \n",
       "3  LP001006   Male     Yes          0  Not Graduate            No   \n",
       "4  LP001008   Male      No          0      Graduate            No   \n",
       "\n",
       "   ApplicantIncome  CoapplicantIncome  LoanAmount  Loan_Amount_Term  \\\n",
       "0             5849                0.0         NaN             360.0   \n",
       "1             4583             1508.0       128.0             360.0   \n",
       "2             3000                0.0        66.0             360.0   \n",
       "3             2583             2358.0       120.0             360.0   \n",
       "4             6000                0.0       141.0             360.0   \n",
       "\n",
       "   Credit_History Property_Area Loan_Status  \n",
       "0             1.0         Urban           Y  \n",
       "1             1.0         Rural           N  \n",
       "2             1.0         Urban           Y  \n",
       "3             1.0         Urban           Y  \n",
       "4             1.0         Urban           Y  "
      ]
     },
     "execution_count": 2,
     "metadata": {},
     "output_type": "execute_result"
    }
   ],
   "source": [
    "loanDf = pd.read_csv('loan_prediction.csv')\n",
    "loanDf.head()"
   ]
  },
  {
   "cell_type": "code",
   "execution_count": 3,
   "metadata": {},
   "outputs": [],
   "source": [
    "#Dropping the Loan_ID column as it is just a unique identifier for applicants and not useful for this analysis\n",
    "loanDf.drop('Loan_ID', axis = 1, inplace = True)"
   ]
  },
  {
   "cell_type": "code",
   "execution_count": 4,
   "metadata": {},
   "outputs": [
    {
     "data": {
      "text/plain": [
       "(614, 12)"
      ]
     },
     "execution_count": 4,
     "metadata": {},
     "output_type": "execute_result"
    }
   ],
   "source": [
    "loanDf.shape"
   ]
  },
  {
   "cell_type": "markdown",
   "metadata": {},
   "source": [
    "The dataset has 614 rows and 12 columns. The target column for this analysis is the Loan_Status column."
   ]
  },
  {
   "cell_type": "code",
   "execution_count": 5,
   "metadata": {},
   "outputs": [
    {
     "data": {
      "text/plain": [
       "['ApplicantIncome',\n",
       " 'CoapplicantIncome',\n",
       " 'LoanAmount',\n",
       " 'Loan_Amount_Term',\n",
       " 'Credit_History']"
      ]
     },
     "execution_count": 5,
     "metadata": {},
     "output_type": "execute_result"
    }
   ],
   "source": [
    "#Making a list of numerical columns\n",
    "numericCols = [feature for feature in loanDf.columns if loanDf[feature].dtypes != 'O']\n",
    "numericCols"
   ]
  },
  {
   "cell_type": "code",
   "execution_count": 6,
   "metadata": {},
   "outputs": [],
   "source": [
    "#Making a list of categorical columns\n",
    "categoricalCols = [features for features in loanDf.columns if features not in numericCols]\n",
    "categoricalCols.remove('Loan_Status')"
   ]
  },
  {
   "cell_type": "markdown",
   "metadata": {},
   "source": [
    "## Exploratory Data Analysis <a name = '3'></a>"
   ]
  },
  {
   "cell_type": "markdown",
   "metadata": {},
   "source": [
    "Univariate Analysis"
   ]
  },
  {
   "cell_type": "code",
   "execution_count": 7,
   "metadata": {},
   "outputs": [
    {
     "data": {
      "text/plain": [
       "Gender               13\n",
       "Married               3\n",
       "Dependents           15\n",
       "Education             0\n",
       "Self_Employed        32\n",
       "ApplicantIncome       0\n",
       "CoapplicantIncome     0\n",
       "LoanAmount           22\n",
       "Loan_Amount_Term     14\n",
       "Credit_History       50\n",
       "Property_Area         0\n",
       "Loan_Status           0\n",
       "dtype: int64"
      ]
     },
     "execution_count": 7,
     "metadata": {},
     "output_type": "execute_result"
    }
   ],
   "source": [
    "loanDf.isnull().sum()"
   ]
  },
  {
   "cell_type": "markdown",
   "metadata": {},
   "source": [
    "We see that a lot of the columns have missing values. We will deal with them first and then proceed with rest of the analysis."
   ]
  },
  {
   "cell_type": "code",
   "execution_count": 8,
   "metadata": {},
   "outputs": [
    {
     "data": {
      "text/plain": [
       "['Gender',\n",
       " 'Married',\n",
       " 'Dependents',\n",
       " 'Self_Employed',\n",
       " 'LoanAmount',\n",
       " 'Loan_Amount_Term',\n",
       " 'Credit_History']"
      ]
     },
     "execution_count": 8,
     "metadata": {},
     "output_type": "execute_result"
    }
   ],
   "source": [
    "#Making a list containing all those columns with missing values\n",
    "missingCols = [i for i in loanDf.columns if loanDf[i].isnull().sum() > 0]\n",
    "missingCols"
   ]
  },
  {
   "cell_type": "code",
   "execution_count": 9,
   "metadata": {},
   "outputs": [],
   "source": [
    "#For numeric columns we will use random sample imputation as it does not distort the variance too much\n",
    "#Making a function to handle numeric missing values using random sampling technique\n",
    "def numericMissingValImputer(colName):\n",
    "    \"\"\"This function makes a new column with the sufix _Imputed and replaces all the missing values in \n",
    "    the original column with a random entry which was obtained from the original column\"\"\"\n",
    "    loanDf[colName+\"_Imputed\"] = loanDf[colName]\n",
    "    \n",
    "    #Making a list of random samples need to replace in the missing values in column\n",
    "    randomSample=loanDf[colName].dropna().sample(loanDf[colName].isnull().sum(), random_state = 42)\n",
    "    #pandas need to have same index in order to merge the dataset\n",
    "    randomSample.index = loanDf[loanDf[colName].isnull()].index\n",
    "    loanDf.loc[loanDf[colName].isnull(),colName+'_Imputed'] = randomSample"
   ]
  },
  {
   "cell_type": "code",
   "execution_count": 10,
   "metadata": {},
   "outputs": [
    {
     "name": "stdout",
     "output_type": "stream",
     "text": [
      "Imputing missing values for LoanAmount\n",
      "Imputing missing values for Loan_Amount_Term\n",
      "Imputing missing values for Credit_History\n",
      "Done\n"
     ]
    }
   ],
   "source": [
    "#Using for loop to apply the function above in numeric columns with missing values\n",
    "for index in numericCols:\n",
    "    if index in missingCols:\n",
    "        print(f'Imputing missing values for {index}')\n",
    "        numericMissingValImputer(index)\n",
    "print('Done')"
   ]
  },
  {
   "cell_type": "code",
   "execution_count": 11,
   "metadata": {},
   "outputs": [
    {
     "data": {
      "text/plain": [
       "<matplotlib.legend.Legend at 0x26bf1d63388>"
      ]
     },
     "execution_count": 11,
     "metadata": {},
     "output_type": "execute_result"
    },
    {
     "data": {
      "image/png": "[encoded data removed]",
      "text/plain": [
       "<Figure size 432x288 with 1 Axes>"
      ]
     },
     "metadata": {
      "needs_background": "light"
     },
     "output_type": "display_data"
    }
   ],
   "source": [
    "fig = plt.figure()\n",
    "ax = fig.add_subplot(111)\n",
    "loanDf['LoanAmount'].plot(kind='kde', ax=ax)\n",
    "loanDf.LoanAmount_Imputed.plot(kind='kde', ax=ax, color='green')\n",
    "lines, labels = ax.get_legend_handles_labels()\n",
    "ax.legend(lines, labels, loc='best')"
   ]
  },
  {
   "cell_type": "markdown",
   "metadata": {},
   "source": [
    "We see from the above graph that the orignal column with missing values and the column with the imputed values have almost the same distribution. In this case its so similar that both the distibution graphs appear as one. The graphs below show the original and imputed distribution for the other two numeric columns."
   ]
  },
  {
   "cell_type": "code",
   "execution_count": 12,
   "metadata": {},
   "outputs": [
    {
     "data": {
      "text/plain": [
       "<matplotlib.legend.Legend at 0x26bf3dc6a48>"
      ]
     },
     "execution_count": 12,
     "metadata": {},
     "output_type": "execute_result"
    },
    {
     "data": {
      "image/png": "[encoded data removed]",
      "text/plain": [
       "<Figure size 432x288 with 1 Axes>"
      ]
     },
     "metadata": {
      "needs_background": "light"
     },
     "output_type": "display_data"
    }
   ],
   "source": [
    "fig1 = plt.figure()\n",
    "ax1 = fig1.add_subplot(111)\n",
    "loanDf['Loan_Amount_Term'].plot(kind='kde', ax=ax1)\n",
    "loanDf.Loan_Amount_Term_Imputed.plot(kind='kde', ax=ax1, color='green')\n",
    "lines, labels = ax1.get_legend_handles_labels()\n",
    "ax1.legend(lines, labels, loc='best')"
   ]
  },
  {
   "cell_type": "code",
   "execution_count": 13,
   "metadata": {},
   "outputs": [
    {
     "data": {
      "text/plain": [
       "<matplotlib.legend.Legend at 0x26bf5fa47c8>"
      ]
     },
     "execution_count": 13,
     "metadata": {},
     "output_type": "execute_result"
    },
    {
     "data": {
      "image/png": "[encoded data removed]",
      "text/plain": [
       "<Figure size 432x288 with 1 Axes>"
      ]
     },
     "metadata": {
      "needs_background": "light"
     },
     "output_type": "display_data"
    }
   ],
   "source": [
    "fig2 = plt.figure()\n",
    "ax2 = fig2.add_subplot(111)\n",
    "loanDf['Credit_History'].plot(kind='kde', ax=ax2)\n",
    "loanDf.Credit_History_Imputed.plot(kind='kde', ax=ax2, color='green')\n",
    "lines, labels = ax2.get_legend_handles_labels()\n",
    "ax2.legend(lines, labels, loc='best')"
   ]
  },
  {
   "cell_type": "markdown",
   "metadata": {},
   "source": [
    "For missing categorical columns we will replace them with the mode but at the same time make another column which will have 1 in all the rows where there was missing value in the original column. This will help preserve any relation the target column had with the missing value."
   ]
  },
  {
   "cell_type": "code",
   "execution_count": 14,
   "metadata": {},
   "outputs": [],
   "source": [
    "#Making a function to handle categorical missing values using random sampling technique\n",
    "def catMissingValImputer(colName):\n",
    "    colMode = loanDf[colName].mode()[0]\n",
    "    \n",
    "    loanDf[f'{colName}_Missing'] = np.where(loanDf[colName].isnull(),1,0) #making a new column with _Missing added to the existing column name and the filling it with 1 if there is missing value in the column or else 0\n",
    "    loanDf[colName].fillna(colMode, inplace = True)"
   ]
  },
  {
   "cell_type": "code",
   "execution_count": 15,
   "metadata": {},
   "outputs": [
    {
     "name": "stdout",
     "output_type": "stream",
     "text": [
      "Imputing Missing values for Gender\n",
      "Imputing Missing values for Married\n",
      "Imputing Missing values for Dependents\n",
      "Imputing Missing values for Self_Employed\n",
      "Done\n"
     ]
    }
   ],
   "source": [
    "for index in categoricalCols:\n",
    "    if index in missingCols:\n",
    "        print(f'Imputing Missing values for {index}')\n",
    "        catMissingValImputer(index)\n",
    "print('Done')"
   ]
  },
  {
   "cell_type": "code",
   "execution_count": 16,
   "metadata": {},
   "outputs": [
    {
     "data": {
      "text/plain": [
       "Gender                       0\n",
       "Married                      0\n",
       "Dependents                   0\n",
       "Education                    0\n",
       "Self_Employed                0\n",
       "ApplicantIncome              0\n",
       "CoapplicantIncome            0\n",
       "LoanAmount                  22\n",
       "Loan_Amount_Term            14\n",
       "Credit_History              50\n",
       "Property_Area                0\n",
       "Loan_Status                  0\n",
       "LoanAmount_Imputed           0\n",
       "Loan_Amount_Term_Imputed     0\n",
       "Credit_History_Imputed       0\n",
       "Gender_Missing               0\n",
       "Married_Missing              0\n",
       "Dependents_Missing           0\n",
       "Self_Employed_Missing        0\n",
       "dtype: int64"
      ]
     },
     "execution_count": 16,
     "metadata": {},
     "output_type": "execute_result"
    }
   ],
   "source": [
    "loanDf.isnull().sum()"
   ]
  },
  {
   "cell_type": "markdown",
   "metadata": {},
   "source": [
    "Since in case of numeric columns with missing values, the new imputed columns contains both the original columns plus\n",
    "imputed values for the missing rows, we can now delete the original column and keep the imputed column for \n",
    "further analysis."
   ]
  },
  {
   "cell_type": "code",
   "execution_count": 17,
   "metadata": {},
   "outputs": [],
   "source": [
    "loanDf.drop(['LoanAmount', 'Loan_Amount_Term', 'Credit_History'], axis = 1, inplace = True)\n",
    "numericCols.extend(['LoanAmount_Imputed', 'Loan_Amount_Term_Imputed', 'Credit_History_Imputed'])\n",
    "for i in ['LoanAmount', 'Loan_Amount_Term', 'Credit_History']:\n",
    "    numericCols.remove(i)"
   ]
  },
  {
   "cell_type": "code",
   "execution_count": 18,
   "metadata": {},
   "outputs": [
    {
     "data": {
      "text/plain": [
       "Gender                       object\n",
       "Married                      object\n",
       "Dependents                   object\n",
       "Education                    object\n",
       "Self_Employed                object\n",
       "ApplicantIncome               int64\n",
       "CoapplicantIncome           float64\n",
       "Property_Area                object\n",
       "Loan_Status                  object\n",
       "LoanAmount_Imputed          float64\n",
       "Loan_Amount_Term_Imputed    float64\n",
       "Credit_History_Imputed      float64\n",
       "Gender_Missing                int32\n",
       "Married_Missing               int32\n",
       "Dependents_Missing            int32\n",
       "Self_Employed_Missing         int32\n",
       "dtype: object"
      ]
     },
     "execution_count": 18,
     "metadata": {},
     "output_type": "execute_result"
    }
   ],
   "source": [
    "#Checking the datatypes of each columns\n",
    "loanDf.dtypes"
   ]
  },
  {
   "cell_type": "markdown",
   "metadata": {},
   "source": [
    "The columns seems to have the correct data type and do not need any further attention"
   ]
  },
  {
   "cell_type": "markdown",
   "metadata": {},
   "source": [
    "Categorical Column Univariate Analysis"
   ]
  },
  {
   "cell_type": "code",
   "execution_count": 19,
   "metadata": {},
   "outputs": [
    {
     "data": {
      "image/png": "[encoded data removed]",
      "text/plain": [
       "<Figure size 1080x720 with 6 Axes>"
      ]
     },
     "metadata": {
      "needs_background": "light"
     },
     "output_type": "display_data"
    }
   ],
   "source": [
    "plt.figure(figsize=(15,10))\n",
    "\n",
    "for index in range(len(categoricalCols)):\n",
    "    plt.subplot(2,3, index+1)\n",
    "    sns.countplot(loanDf[categoricalCols[index]])\n",
    "    plt.xlabel(categoricalCols[index])\n",
    "    plt.xticks(rotation=45)\n",
    "    plt.tight_layout()"
   ]
  },
  {
   "cell_type": "markdown",
   "metadata": {},
   "source": [
    "The figure above show the count plots for all the categorical columns. We see that most applicants are male. In married, most of them are married. Most have 0 dependants, are graduate and not self employed. However, in terms of residing/property area, there is a more or less balance between applicants from Urban, Rural or Semi-urban areas.."
   ]
  },
  {
   "cell_type": "code",
   "execution_count": 20,
   "metadata": {},
   "outputs": [
    {
     "data": {
      "text/plain": [
       "<AxesSubplot:xlabel='Loan_Status', ylabel='count'>"
      ]
     },
     "execution_count": 20,
     "metadata": {},
     "output_type": "execute_result"
    },
    {
     "data": {
      "image/png": "[encoded data removed]",
      "text/plain": [
       "<Figure size 432x288 with 1 Axes>"
      ]
     },
     "metadata": {
      "needs_background": "light"
     },
     "output_type": "display_data"
    }
   ],
   "source": [
    "sns.countplot(loanDf['Loan_Status'])"
   ]
  },
  {
   "cell_type": "markdown",
   "metadata": {},
   "source": [
    "The target column have more 'Y' labels then 'N'. Therefore, we need to balance them before model building."
   ]
  },
  {
   "cell_type": "markdown",
   "metadata": {},
   "source": [
    "Numeric Col Univariate Analysis"
   ]
  },
  {
   "cell_type": "code",
   "execution_count": 21,
   "metadata": {},
   "outputs": [
    {
     "data": {
      "text/html": [
       "<div>\n",
       "<style scoped>\n",
       "    .dataframe tbody tr th:only-of-type {\n",
       "        vertical-align: middle;\n",
       "    }\n",
       "\n",
       "    .dataframe tbody tr th {\n",
       "        vertical-align: top;\n",
       "    }\n",
       "\n",
       "    .dataframe thead th {\n",
       "        text-align: right;\n",
       "    }\n",
       "</style>\n",
       "<table border=\"1\" class=\"dataframe\">\n",
       "  <thead>\n",
       "    <tr style=\"text-align: right;\">\n",
       "      <th></th>\n",
       "      <th>ApplicantIncome</th>\n",
       "      <th>CoapplicantIncome</th>\n",
       "      <th>LoanAmount_Imputed</th>\n",
       "      <th>Loan_Amount_Term_Imputed</th>\n",
       "      <th>Credit_History_Imputed</th>\n",
       "    </tr>\n",
       "  </thead>\n",
       "  <tbody>\n",
       "    <tr>\n",
       "      <th>count</th>\n",
       "      <td>614.000000</td>\n",
       "      <td>614.000000</td>\n",
       "      <td>614.000000</td>\n",
       "      <td>614.000000</td>\n",
       "      <td>614.000000</td>\n",
       "    </tr>\n",
       "    <tr>\n",
       "      <th>mean</th>\n",
       "      <td>5403.459283</td>\n",
       "      <td>1621.245798</td>\n",
       "      <td>146.125407</td>\n",
       "      <td>342.117264</td>\n",
       "      <td>0.838762</td>\n",
       "    </tr>\n",
       "    <tr>\n",
       "      <th>std</th>\n",
       "      <td>6109.041673</td>\n",
       "      <td>2926.248369</td>\n",
       "      <td>84.520173</td>\n",
       "      <td>64.757139</td>\n",
       "      <td>0.368050</td>\n",
       "    </tr>\n",
       "    <tr>\n",
       "      <th>min</th>\n",
       "      <td>150.000000</td>\n",
       "      <td>0.000000</td>\n",
       "      <td>9.000000</td>\n",
       "      <td>12.000000</td>\n",
       "      <td>0.000000</td>\n",
       "    </tr>\n",
       "    <tr>\n",
       "      <th>25%</th>\n",
       "      <td>2877.500000</td>\n",
       "      <td>0.000000</td>\n",
       "      <td>100.000000</td>\n",
       "      <td>360.000000</td>\n",
       "      <td>1.000000</td>\n",
       "    </tr>\n",
       "    <tr>\n",
       "      <th>50%</th>\n",
       "      <td>3812.500000</td>\n",
       "      <td>1188.500000</td>\n",
       "      <td>128.000000</td>\n",
       "      <td>360.000000</td>\n",
       "      <td>1.000000</td>\n",
       "    </tr>\n",
       "    <tr>\n",
       "      <th>75%</th>\n",
       "      <td>5795.000000</td>\n",
       "      <td>2297.250000</td>\n",
       "      <td>168.000000</td>\n",
       "      <td>360.000000</td>\n",
       "      <td>1.000000</td>\n",
       "    </tr>\n",
       "    <tr>\n",
       "      <th>max</th>\n",
       "      <td>81000.000000</td>\n",
       "      <td>41667.000000</td>\n",
       "      <td>700.000000</td>\n",
       "      <td>480.000000</td>\n",
       "      <td>1.000000</td>\n",
       "    </tr>\n",
       "  </tbody>\n",
       "</table>\n",
       "</div>"
      ],
      "text/plain": [
       "       ApplicantIncome  CoapplicantIncome  LoanAmount_Imputed  \\\n",
       "count       614.000000         614.000000          614.000000   \n",
       "mean       5403.459283        1621.245798          146.125407   \n",
       "std        6109.041673        2926.248369           84.520173   \n",
       "min         150.000000           0.000000            9.000000   \n",
       "25%        2877.500000           0.000000          100.000000   \n",
       "50%        3812.500000        1188.500000          128.000000   \n",
       "75%        5795.000000        2297.250000          168.000000   \n",
       "max       81000.000000       41667.000000          700.000000   \n",
       "\n",
       "       Loan_Amount_Term_Imputed  Credit_History_Imputed  \n",
       "count                614.000000              614.000000  \n",
       "mean                 342.117264                0.838762  \n",
       "std                   64.757139                0.368050  \n",
       "min                   12.000000                0.000000  \n",
       "25%                  360.000000                1.000000  \n",
       "50%                  360.000000                1.000000  \n",
       "75%                  360.000000                1.000000  \n",
       "max                  480.000000                1.000000  "
      ]
     },
     "execution_count": 21,
     "metadata": {},
     "output_type": "execute_result"
    }
   ],
   "source": [
    "loanDf[numericCols].describe()"
   ]
  },
  {
   "cell_type": "markdown",
   "metadata": {},
   "source": [
    "The summary statistics of the numeric columns, on first glance, indicates the presence of outliers. However, looking at maximum values, we see that these outliers are resonable. For example, for the first column above, assuming that the income is in Indian Rupees (INR) and is monthly income, we can see that it is entirely possible for an individual to have a salary of 81000 per month. Same with the second column, 41667 per month is not a far stretched."
   ]
  },
  {
   "cell_type": "code",
   "execution_count": 22,
   "metadata": {},
   "outputs": [
    {
     "data": {
      "image/png": "[encoded data removed]",
      "text/plain": [
       "<Figure size 1080x720 with 5 Axes>"
      ]
     },
     "metadata": {
      "needs_background": "light"
     },
     "output_type": "display_data"
    }
   ],
   "source": [
    "plt.figure(figsize=(15,10))\n",
    "\n",
    "for index in range(len(numericCols)):\n",
    "    plt.subplot(2,3,index+1)\n",
    "    sns.distplot(loanDf[numericCols[index]])\n",
    "    plt.tight_layout()"
   ]
  },
  {
   "cell_type": "markdown",
   "metadata": {},
   "source": [
    "In the first three figures above, we notice there is right skewness. For the figure below on the left, it has more or less a normal distribution. Lastly, the column Credit_History_Imputed , it holds only two values which is 0 and 1 which is why it appears this way."
   ]
  },
  {
   "cell_type": "code",
   "execution_count": 23,
   "metadata": {},
   "outputs": [
    {
     "data": {
      "image/png": "[encoded data removed]",
      "text/plain": [
       "<Figure size 720x720 with 5 Axes>"
      ]
     },
     "metadata": {
      "needs_background": "light"
     },
     "output_type": "display_data"
    }
   ],
   "source": [
    "#PLotting boxplot to check outliers\n",
    "plt.figure(figsize=(10,10))\n",
    "\n",
    "for index in range(len(numericCols)):\n",
    "    plt.subplot(2,3,index+1)\n",
    "    plt.boxplot(loanDf[numericCols[index]])\n",
    "    plt.xlabel(numericCols[index])\n",
    "    plt.tight_layout()"
   ]
  },
  {
   "cell_type": "markdown",
   "metadata": {},
   "source": [
    "We see that all the rows have outliers. But as explained previously, all the outliers are reasonable. Therefore, although removing them will produce a better fit, the model will not be robust for situations which might cause outliers in this case. Therefore, we will keep them as is for this analysis. We will, however, tranform the columns to reduce skewness. This will be done in the preprocessing stage of the analysis."
   ]
  },
  {
   "cell_type": "code",
   "execution_count": 24,
   "metadata": {},
   "outputs": [
    {
     "data": {
      "text/plain": [
       "ApplicantIncome             6.539513\n",
       "CoapplicantIncome           7.491531\n",
       "LoanAmount_Imputed          2.691631\n",
       "Loan_Amount_Term_Imputed   -2.377966\n",
       "Credit_History_Imputed     -1.846865\n",
       "dtype: float64"
      ]
     },
     "execution_count": 24,
     "metadata": {},
     "output_type": "execute_result"
    }
   ],
   "source": [
    "loanDf[numericCols].skew()"
   ]
  },
  {
   "cell_type": "markdown",
   "metadata": {},
   "source": [
    "Bivariate Analysis"
   ]
  },
  {
   "cell_type": "markdown",
   "metadata": {},
   "source": [
    "Categorical Columns\n",
    "\n",
    "Since our target column is a categorical column, we ca nuse Chi-square test of independence to see is the target column has any statistically significant relation with other categorical features."
   ]
  },
  {
   "cell_type": "code",
   "execution_count": 25,
   "metadata": {},
   "outputs": [
    {
     "data": {
      "text/html": [
       "<div>\n",
       "<style scoped>\n",
       "    .dataframe tbody tr th:only-of-type {\n",
       "        vertical-align: middle;\n",
       "    }\n",
       "\n",
       "    .dataframe tbody tr th {\n",
       "        vertical-align: top;\n",
       "    }\n",
       "\n",
       "    .dataframe thead th {\n",
       "        text-align: right;\n",
       "    }\n",
       "</style>\n",
       "<table border=\"1\" class=\"dataframe\">\n",
       "  <thead>\n",
       "    <tr style=\"text-align: right;\">\n",
       "      <th>Loan_Status</th>\n",
       "      <th>N</th>\n",
       "      <th>Y</th>\n",
       "      <th>Total</th>\n",
       "    </tr>\n",
       "    <tr>\n",
       "      <th>Gender</th>\n",
       "      <th></th>\n",
       "      <th></th>\n",
       "      <th></th>\n",
       "    </tr>\n",
       "  </thead>\n",
       "  <tbody>\n",
       "    <tr>\n",
       "      <th>Female</th>\n",
       "      <td>37</td>\n",
       "      <td>75</td>\n",
       "      <td>112</td>\n",
       "    </tr>\n",
       "    <tr>\n",
       "      <th>Male</th>\n",
       "      <td>155</td>\n",
       "      <td>347</td>\n",
       "      <td>502</td>\n",
       "    </tr>\n",
       "    <tr>\n",
       "      <th>Total</th>\n",
       "      <td>192</td>\n",
       "      <td>422</td>\n",
       "      <td>614</td>\n",
       "    </tr>\n",
       "  </tbody>\n",
       "</table>\n",
       "</div>"
      ],
      "text/plain": [
       "Loan_Status    N    Y  Total\n",
       "Gender                      \n",
       "Female        37   75    112\n",
       "Male         155  347    502\n",
       "Total        192  422    614"
      ]
     },
     "execution_count": 25,
     "metadata": {},
     "output_type": "execute_result"
    }
   ],
   "source": [
    "#Calculating Cross Table\n",
    "crossTab = pd.crosstab(loanDf['Gender'], loanDf['Loan_Status'], margins=True, margins_name='Total')\n",
    "crossTab"
   ]
  },
  {
   "cell_type": "code",
   "execution_count": 26,
   "metadata": {},
   "outputs": [
    {
     "data": {
      "text/plain": [
       "array([[ 37,  75, 112],\n",
       "       [155, 347, 502],\n",
       "       [192, 422, 614]], dtype=int64)"
      ]
     },
     "execution_count": 26,
     "metadata": {},
     "output_type": "execute_result"
    }
   ],
   "source": [
    "#Calculating table with observed values\n",
    "observedVal = crossTab.values\n",
    "observedVal"
   ]
  },
  {
   "cell_type": "code",
   "execution_count": 27,
   "metadata": {},
   "outputs": [],
   "source": [
    "#Finding the expected values\n",
    "val=stats.chi2_contingency(crossTab)\n",
    "\n",
    "#at index 3 the expected value arry is present\n",
    "expectedVal = val[3]"
   ]
  },
  {
   "cell_type": "code",
   "execution_count": 28,
   "metadata": {},
   "outputs": [
    {
     "name": "stdout",
     "output_type": "stream",
     "text": [
      "Degree of Freedom: 1\n"
     ]
    }
   ],
   "source": [
    "rowNum = (crossTab.shape[0] - 1) # not considering the 'Total' row\n",
    "columnNum = (crossTab.shape[1] - 1) # not considering the 'Total' column\n",
    "#Calculating degrees of freedom\n",
    "doF=(rowNum-1)*(columnNum-1)\n",
    "print(f'Degree of Freedom: {doF}')\n",
    "alpha = 0.05"
   ]
  },
  {
   "cell_type": "code",
   "execution_count": 29,
   "metadata": {},
   "outputs": [
    {
     "name": "stdout",
     "output_type": "stream",
     "text": [
      "Chi-square statistic:-0.19864165509874285\n"
     ]
    }
   ],
   "source": [
    "#Calculating the chi-square statistics\n",
    "chiSquare=sum([(o-e)**2./e for o,e in zip(observedVal, expectedVal)])\n",
    "\n",
    "chiSquareStatistic=chiSquare[0]+chiSquare[1]\n",
    "print(f'Chi-square statistic:-{chiSquareStatistic}')"
   ]
  },
  {
   "cell_type": "code",
   "execution_count": 30,
   "metadata": {},
   "outputs": [
    {
     "name": "stdout",
     "output_type": "stream",
     "text": [
      "Significance level: 0.05\n",
      "Degree of Freedom: 1\n",
      "p-value: 0.6558195040543224\n"
     ]
    }
   ],
   "source": [
    "#Finding the pvalue\n",
    "pValue=1-stats.chi2.cdf(x=chiSquareStatistic,df=doF)\n",
    "print(f'Significance level: {alpha}')\n",
    "print(f'Degree of Freedom: {doF}')\n",
    "print(f'p-value: {pValue}')"
   ]
  },
  {
   "cell_type": "code",
   "execution_count": 31,
   "metadata": {},
   "outputs": [
    {
     "name": "stdout",
     "output_type": "stream",
     "text": [
      "Retain H0,There is no relationship between 2 categorical variables\n"
     ]
    }
   ],
   "source": [
    "if pValue<=alpha:\n",
    "    print(\"Reject H0,There is a relationship between 2 categorical variables\")\n",
    "else:\n",
    "    print(\"Retain H0,There is no relationship between 2 categorical variables\")"
   ]
  },
  {
   "cell_type": "code",
   "execution_count": 32,
   "metadata": {},
   "outputs": [],
   "source": [
    "#Defining a function to do all of the above steps and tell us if the target column has any significant relation with other categorical column\n",
    "def chi2IndependenceTest(categoricalColName):\n",
    "    \n",
    "    crossTab = pd.crosstab(loanDf[categoricalColName], loanDf['Loan_Status'], margins=True, margins_name='Total')\n",
    "    observedVal = crossTab.values\n",
    "    expectedVal = stats.chi2_contingency(crossTab)[3]\n",
    "    rowNum = (crossTab.shape[0] - 1)\n",
    "    columnNum = (crossTab.shape[1] - 1)\n",
    "    doF=(rowNum-1)*(columnNum-1)\n",
    "    chiSquare=sum([(o-e)**2./e for o,e in zip(observedVal, expectedVal)])\n",
    "    chiSquareStatistic=chiSquare[0]+chiSquare[1]\n",
    "    pValue=1-stats.chi2.cdf(x=chiSquareStatistic,df=doF)\n",
    "    \n",
    "    return doF, pValue"
   ]
  },
  {
   "cell_type": "code",
   "execution_count": 33,
   "metadata": {},
   "outputs": [
    {
     "name": "stdout",
     "output_type": "stream",
     "text": [
      "Accept H0,There is no relationship between Gender and Loan_Status\n",
      "Reject H0, There is a relationship between Married and Loan_Status\n",
      "Accept H0,There is no relationship between Dependents and Loan_Status\n",
      "Reject H0, There is a relationship between Education and Loan_Status\n",
      "Accept H0,There is no relationship between Self_Employed and Loan_Status\n",
      "Reject H0, There is a relationship between Property_Area and Loan_Status\n"
     ]
    }
   ],
   "source": [
    "alpha = 0.05\n",
    "sigCatCols = [] #List of significant categorical columns\n",
    "\n",
    "for cols in categoricalCols:\n",
    "    degreesOfFreedom, pValue = chi2IndependenceTest(cols)\n",
    "    if pValue<=alpha:\n",
    "        sigCatCols.append(cols)\n",
    "        print(f'Reject H0, There is a relationship between {cols} and Loan_Status')\n",
    "    else:\n",
    "        print(f'Accept H0,There is no relationship between {cols} and Loan_Status')"
   ]
  },
  {
   "cell_type": "code",
   "execution_count": 34,
   "metadata": {},
   "outputs": [
    {
     "data": {
      "text/plain": [
       "['Married', 'Education', 'Property_Area']"
      ]
     },
     "execution_count": 34,
     "metadata": {},
     "output_type": "execute_result"
    }
   ],
   "source": [
    "#List of significant columns\n",
    "sigCatCols"
   ]
  },
  {
   "cell_type": "markdown",
   "metadata": {},
   "source": [
    "Numeric Columns with the target variable (which is categorical)"
   ]
  },
  {
   "cell_type": "code",
   "execution_count": 35,
   "metadata": {},
   "outputs": [
    {
     "data": {
      "text/plain": [
       "<AxesSubplot:>"
      ]
     },
     "execution_count": 35,
     "metadata": {},
     "output_type": "execute_result"
    },
    {
     "data": {
      "image/png": "[encoded data removed]",
      "text/plain": [
       "<Figure size 1080x720 with 2 Axes>"
      ]
     },
     "metadata": {
      "needs_background": "light"
     },
     "output_type": "display_data"
    }
   ],
   "source": [
    "#Checking correlation coefficient of numerical columns\n",
    "plt.figure(figsize=(15,10))\n",
    "sns.heatmap(loanDf[numericCols].corr(), vmax = +1, vmin = -1, annot = True)"
   ]
  },
  {
   "cell_type": "markdown",
   "metadata": {},
   "source": [
    "We see from the heatmap that no columns are very highly correlated with each other and hence there is no multicollinearity."
   ]
  },
  {
   "cell_type": "code",
   "execution_count": 36,
   "metadata": {},
   "outputs": [
    {
     "data": {
      "image/png": "[encoded data removed]",
      "text/plain": [
       "<Figure size 432x288 with 1 Axes>"
      ]
     },
     "metadata": {
      "needs_background": "light"
     },
     "output_type": "display_data"
    }
   ],
   "source": [
    "fig, ax = plt.subplots()\n",
    "\n",
    "ax.hist(loanDf[loanDf[\"Loan_Status\"]=='Y'][\"ApplicantIncome\"], bins=15, alpha=0.5, color=\"blue\", label=\"Yes\")\n",
    "ax.hist(loanDf[loanDf[\"Loan_Status\"]=='N'][\"ApplicantIncome\"], bins=15, alpha=0.5, color=\"green\", label=\"No\")\n",
    "\n",
    "ax.set_xlabel(\"Income\")\n",
    "ax.set_ylabel(\"Count\")\n",
    "\n",
    "ax.legend();"
   ]
  },
  {
   "cell_type": "markdown",
   "metadata": {},
   "source": [
    "Income of those with loans approved are higher then those whose loans are not approved"
   ]
  },
  {
   "cell_type": "code",
   "execution_count": 37,
   "metadata": {},
   "outputs": [
    {
     "data": {
      "image/png": "[encoded data removed]",
      "text/plain": [
       "<Figure size 432x288 with 1 Axes>"
      ]
     },
     "metadata": {
      "needs_background": "light"
     },
     "output_type": "display_data"
    }
   ],
   "source": [
    "fig, ax = plt.subplots()\n",
    "\n",
    "ax.hist(loanDf[loanDf[\"Loan_Status\"]=='Y'][\"CoapplicantIncome\"], bins=15, alpha=0.5, color=\"blue\", label=\"Yes\")\n",
    "ax.hist(loanDf[loanDf[\"Loan_Status\"]=='N'][\"CoapplicantIncome\"], bins=15, alpha=0.5, color=\"green\", label=\"No\")\n",
    "\n",
    "ax.set_xlabel(\"Co-Applicant Income\")\n",
    "ax.set_ylabel(\"Count\")\n",
    "\n",
    "ax.legend();"
   ]
  },
  {
   "cell_type": "markdown",
   "metadata": {},
   "source": [
    "We see similar trend in case of Coapplicant_Income. Those with higher coaaplicant_Income have a higher amount of sanctioned loans."
   ]
  },
  {
   "cell_type": "code",
   "execution_count": 38,
   "metadata": {},
   "outputs": [
    {
     "data": {
      "image/png": "[encoded data removed]",
      "text/plain": [
       "<Figure size 432x288 with 1 Axes>"
      ]
     },
     "metadata": {
      "needs_background": "light"
     },
     "output_type": "display_data"
    }
   ],
   "source": [
    "fig, ax = plt.subplots()\n",
    "\n",
    "ax.hist(loanDf[loanDf[\"Loan_Status\"]=='Y'][\"Credit_History_Imputed\"], bins=15, alpha=0.5, color=\"blue\", label=\"Yes\")\n",
    "ax.hist(loanDf[loanDf[\"Loan_Status\"]=='N'][\"Credit_History_Imputed\"], bins=15, alpha=0.5, color=\"green\", label=\"No\")\n",
    "\n",
    "ax.set_xlabel(\"Credit_History_Imputed\")\n",
    "ax.set_ylabel(\"Count\")\n",
    "\n",
    "ax.legend();"
   ]
  },
  {
   "cell_type": "markdown",
   "metadata": {},
   "source": [
    "Those with a credit history have a higher count of getting loan approved."
   ]
  },
  {
   "cell_type": "markdown",
   "metadata": {},
   "source": [
    "## Pre-Processing and Analysis <a name = '4'></a>"
   ]
  },
  {
   "cell_type": "code",
   "execution_count": 39,
   "metadata": {},
   "outputs": [
    {
     "data": {
      "text/plain": [
       "ApplicantIncome             6.539513\n",
       "CoapplicantIncome           7.491531\n",
       "LoanAmount_Imputed          2.691631\n",
       "Loan_Amount_Term_Imputed   -2.377966\n",
       "Credit_History_Imputed     -1.846865\n",
       "dtype: float64"
      ]
     },
     "execution_count": 39,
     "metadata": {},
     "output_type": "execute_result"
    }
   ],
   "source": [
    "#Checking and removing skewness\n",
    "loanDf[numericCols].skew()"
   ]
  },
  {
   "cell_type": "code",
   "execution_count": 40,
   "metadata": {},
   "outputs": [
    {
     "data": {
      "text/plain": [
       "ApplicantIncome             0.479580\n",
       "CoapplicantIncome           0.196726\n",
       "LoanAmount_Imputed         -0.193323\n",
       "Loan_Amount_Term_Imputed    0.375943\n",
       "Credit_History_Imputed     -1.846865\n",
       "dtype: float64"
      ]
     },
     "execution_count": 40,
     "metadata": {},
     "output_type": "execute_result"
    }
   ],
   "source": [
    "#applying various transformation to remove/reduce skewness\n",
    "loanDf['ApplicantIncome'] = np.log(loanDf['ApplicantIncome'])\n",
    "loanDf['CoapplicantIncome'] = (loanDf['CoapplicantIncome'])**(1/3)\n",
    "loanDf['LoanAmount_Imputed'] = np.log(loanDf['LoanAmount_Imputed'])\n",
    "loanDf['Loan_Amount_Term_Imputed'] = stats.boxcox(loanDf['Loan_Amount_Term_Imputed'])[0]\n",
    "loanDf[numericCols].skew()"
   ]
  },
  {
   "cell_type": "code",
   "execution_count": 41,
   "metadata": {},
   "outputs": [],
   "source": [
    "#Enocing target column with 1 if 'Y' and 0 of 'N'\n",
    "loanDf['Loan_Status_Encoded'] = 0\n",
    "loanDf.loc[loanDf['Loan_Status'] == 'Y', 'Loan_Status_Encoded'] = 1\n",
    "loanDf.drop('Loan_Status', axis = 1, inplace = True)"
   ]
  },
  {
   "cell_type": "code",
   "execution_count": 42,
   "metadata": {},
   "outputs": [],
   "source": [
    "#Seperating the target and feature columns\n",
    "x = loanDf.drop('Loan_Status_Encoded', axis = 1)\n",
    "y = loanDf.Loan_Status_Encoded"
   ]
  },
  {
   "cell_type": "code",
   "execution_count": 43,
   "metadata": {},
   "outputs": [],
   "source": [
    "#applying standard scaler to numeric columns ann onehotenocoding to categorical columns\n",
    "colTrans = make_column_transformer((StandardScaler(), numericCols),(OneHotEncoder(), sigCatCols), remainder='drop') \n",
    "x = colTrans.fit_transform(x)"
   ]
  },
  {
   "cell_type": "code",
   "execution_count": 44,
   "metadata": {},
   "outputs": [
    {
     "name": "stdout",
     "output_type": "stream",
     "text": [
      "Best accuracy is 85.94594594594595% on Random state 199\n"
     ]
    }
   ],
   "source": [
    "#Finding the best random state\n",
    "maxAcc = 0\n",
    "maxRs = 0\n",
    "for randState in range(0,200):\n",
    "    x_train, x_test, y_train, y_test = train_test_split(x, y, test_size=0.30, random_state=randState)\n",
    "    lr = LogisticRegression()\n",
    "    lr.fit(x_train, y_train)\n",
    "    predlr = lr.predict(x_test)\n",
    "    acc = lr.score(x_test, y_test)\n",
    "    if acc>maxAcc:\n",
    "        maxAcc=acc\n",
    "        maxRs=randState\n",
    "print(f\"Best accuracy is {maxAcc*100}% on Random state {randState}\")"
   ]
  },
  {
   "cell_type": "code",
   "execution_count": 45,
   "metadata": {},
   "outputs": [],
   "source": [
    "x_train, x_test, y_train, y_test = train_test_split(x, y, test_size=0.20, random_state=199)"
   ]
  },
  {
   "cell_type": "code",
   "execution_count": 46,
   "metadata": {
    "scrolled": true
   },
   "outputs": [
    {
     "name": "stdout",
     "output_type": "stream",
     "text": [
      "Before Resampling\n",
      "1    339\n",
      "0    152\n",
      "Name: Loan_Status_Encoded, dtype: int64\n",
      "After Resampling:\n",
      "0    339\n",
      "1    339\n",
      "Name: Loan_Status_Encoded, dtype: int64\n"
     ]
    }
   ],
   "source": [
    "#Oversampling to balance the dataset\n",
    "\n",
    "overSampler = RandomOverSampler(random_state = 42)\n",
    "xResampled, yResampled = overSampler.fit_resample(x_train, y_train)\n",
    "\n",
    "print(f'Before Resampling\\n{y_train.value_counts()}\\nAfter Resampling:\\n{yResampled.value_counts()}')"
   ]
  },
  {
   "cell_type": "code",
   "execution_count": 47,
   "metadata": {
    "scrolled": false
   },
   "outputs": [
    {
     "name": "stdout",
     "output_type": "stream",
     "text": [
      "\tLogisticRegression()\n",
      "Confusion Matrix:\n",
      "[[22 18]\n",
      " [10 73]]\n",
      "\n",
      "Classification Report:\n",
      "              precision    recall  f1-score   support\n",
      "\n",
      "           0       0.69      0.55      0.61        40\n",
      "           1       0.80      0.88      0.84        83\n",
      "\n",
      "    accuracy                           0.77       123\n",
      "   macro avg       0.74      0.71      0.73       123\n",
      "weighted avg       0.76      0.77      0.76       123\n",
      "\n",
      "\n",
      "F1 Score: \n",
      "0.8390804597701149\n",
      "\n",
      "Accuracy Score: 0.7723577235772358\n",
      "\n",
      "\tRandomForestClassifier()\n",
      "Confusion Matrix:\n",
      "[[19 21]\n",
      " [ 8 75]]\n",
      "\n",
      "Classification Report:\n",
      "              precision    recall  f1-score   support\n",
      "\n",
      "           0       0.70      0.47      0.57        40\n",
      "           1       0.78      0.90      0.84        83\n",
      "\n",
      "    accuracy                           0.76       123\n",
      "   macro avg       0.74      0.69      0.70       123\n",
      "weighted avg       0.76      0.76      0.75       123\n",
      "\n",
      "\n",
      "F1 Score: \n",
      "0.8379888268156425\n",
      "\n",
      "Accuracy Score: 0.7642276422764228\n",
      "\n",
      "\tDecisionTreeClassifier()\n",
      "Confusion Matrix:\n",
      "[[21 19]\n",
      " [21 62]]\n",
      "\n",
      "Classification Report:\n",
      "              precision    recall  f1-score   support\n",
      "\n",
      "           0       0.50      0.53      0.51        40\n",
      "           1       0.77      0.75      0.76        83\n",
      "\n",
      "    accuracy                           0.67       123\n",
      "   macro avg       0.63      0.64      0.63       123\n",
      "weighted avg       0.68      0.67      0.68       123\n",
      "\n",
      "\n",
      "F1 Score: \n",
      "0.7560975609756098\n",
      "\n",
      "Accuracy Score: 0.6747967479674797\n",
      "\n",
      "\tSVC()\n",
      "Confusion Matrix:\n",
      "[[21 19]\n",
      " [ 7 76]]\n",
      "\n",
      "Classification Report:\n",
      "              precision    recall  f1-score   support\n",
      "\n",
      "           0       0.75      0.53      0.62        40\n",
      "           1       0.80      0.92      0.85        83\n",
      "\n",
      "    accuracy                           0.79       123\n",
      "   macro avg       0.78      0.72      0.74       123\n",
      "weighted avg       0.78      0.79      0.78       123\n",
      "\n",
      "\n",
      "F1 Score: \n",
      "0.8539325842696628\n",
      "\n",
      "Accuracy Score: 0.7886178861788617\n",
      "\n",
      "\tKNeighborsClassifier()\n",
      "Confusion Matrix:\n",
      "[[23 17]\n",
      " [32 51]]\n",
      "\n",
      "Classification Report:\n",
      "              precision    recall  f1-score   support\n",
      "\n",
      "           0       0.42      0.57      0.48        40\n",
      "           1       0.75      0.61      0.68        83\n",
      "\n",
      "    accuracy                           0.60       123\n",
      "   macro avg       0.58      0.59      0.58       123\n",
      "weighted avg       0.64      0.60      0.61       123\n",
      "\n",
      "\n",
      "F1 Score: \n",
      "0.6754966887417218\n",
      "\n",
      "Accuracy Score: 0.6016260162601627\n",
      "\n",
      "\tAdaBoostClassifier()\n",
      "Confusion Matrix:\n",
      "[[15 25]\n",
      " [22 61]]\n",
      "\n",
      "Classification Report:\n",
      "              precision    recall  f1-score   support\n",
      "\n",
      "           0       0.41      0.38      0.39        40\n",
      "           1       0.71      0.73      0.72        83\n",
      "\n",
      "    accuracy                           0.62       123\n",
      "   macro avg       0.56      0.55      0.56       123\n",
      "weighted avg       0.61      0.62      0.61       123\n",
      "\n",
      "\n",
      "F1 Score: \n",
      "0.7218934911242604\n",
      "\n",
      "Accuracy Score: 0.6178861788617886\n",
      "\n"
     ]
    }
   ],
   "source": [
    "#Training various classification models and checking their accuracies\n",
    "lr = LogisticRegression()\n",
    "rfc = RandomForestClassifier()\n",
    "dtc = DecisionTreeClassifier() \n",
    "svc = SVC() \n",
    "knc = KNeighborsClassifier()\n",
    "adc = AdaBoostClassifier()\n",
    "\n",
    "models = [lr, rfc, dtc, svc, knc, adc]\n",
    "\n",
    "for model in models:\n",
    "    model.fit(xResampled, yResampled)\n",
    "    pred = model.predict(x_test)\n",
    "    print(f'\\t{model}\\nConfusion Matrix:\\n{confusion_matrix(y_test, pred)}\\n')\n",
    "    print(f'Classification Report:\\n{classification_report(y_test, pred)}\\n')\n",
    "    print(f'F1 Score: \\n{f1_score(y_test, pred)}\\n')\n",
    "    print(f'Accuracy Score: {accuracy_score(y_test, pred)}\\n')"
   ]
  },
  {
   "cell_type": "code",
   "execution_count": 48,
   "metadata": {},
   "outputs": [
    {
     "name": "stdout",
     "output_type": "stream",
     "text": [
      "Cross val score is: 0.7006753812636165\n",
      "Accuracy and Cross Validation Score difference: 0.06355226101280631\n"
     ]
    }
   ],
   "source": [
    "lrCV = cross_val_score(lr , xResampled, yResampled, cv = 5)\n",
    "print(f'Cross val score is: {lrCV.mean()}')\n",
    "print(f'Accuracy and Cross Validation Score difference: {0.7642276422764228 - lrCV.mean()}')"
   ]
  },
  {
   "cell_type": "code",
   "execution_count": 49,
   "metadata": {},
   "outputs": [
    {
     "name": "stdout",
     "output_type": "stream",
     "text": [
      "Cross val score is: 0.8717647058823529\n",
      "Accuracy and Cross Validation Score difference: -0.10753706360593007\n"
     ]
    }
   ],
   "source": [
    "rfcCV = cross_val_score(rfc , xResampled, yResampled, cv = 5)\n",
    "print(f'Cross val score is: {rfcCV.mean()}')\n",
    "print(f'Accuracy and Cross Validation Score difference: {0.7642276422764228 - rfcCV.mean()}')"
   ]
  },
  {
   "cell_type": "code",
   "execution_count": 50,
   "metadata": {},
   "outputs": [
    {
     "name": "stdout",
     "output_type": "stream",
     "text": [
      "Cross val score is: 0.8333769063180828\n",
      "Accuracy and Cross Validation Score difference: -0.13418991444816408\n"
     ]
    }
   ],
   "source": [
    "dtcCV = cross_val_score(dtc , xResampled, yResampled, cv = 5)\n",
    "print(f'Cross val score is: {dtcCV.mean()}')\n",
    "print(f'Accuracy and Cross Validation Score difference: {0.6991869918699187 - dtcCV.mean()}')"
   ]
  },
  {
   "cell_type": "code",
   "execution_count": 51,
   "metadata": {},
   "outputs": [
    {
     "name": "stdout",
     "output_type": "stream",
     "text": [
      "Cross val score is: 0.7493137254901961\n",
      "Accuracy and Cross Validation Score difference: 0.055564323290291706\n"
     ]
    }
   ],
   "source": [
    "svcCV = cross_val_score(svc , xResampled, yResampled, cv = 5)\n",
    "print(f'Cross val score is: {svcCV.mean()}')\n",
    "print(f'Accuracy and Cross Validation Score difference: {0.8048780487804879 - svcCV.mean()}')"
   ]
  },
  {
   "cell_type": "code",
   "execution_count": 52,
   "metadata": {},
   "outputs": [
    {
     "name": "stdout",
     "output_type": "stream",
     "text": [
      "Cross val score is: 0.7448366013071895\n",
      "Accuracy and Cross Validation Score difference: -0.11882034114458795\n"
     ]
    }
   ],
   "source": [
    "kncCV = cross_val_score(knc , xResampled, yResampled, cv = 5)\n",
    "print(f'Cross val score is: {kncCV.mean()}')\n",
    "print(f'Accuracy and Cross Validation Score difference: {0.6260162601626016 - kncCV.mean()}')"
   ]
  },
  {
   "cell_type": "code",
   "execution_count": 53,
   "metadata": {},
   "outputs": [
    {
     "name": "stdout",
     "output_type": "stream",
     "text": [
      "Cross val score is: 0.7522984749455338\n",
      "Accuracy and Cross Validation Score difference: -0.13441229608374516\n"
     ]
    }
   ],
   "source": [
    "adcCV = cross_val_score(adc , xResampled, yResampled, cv = 5)\n",
    "print(f'Cross val score is: {adcCV.mean()}')\n",
    "print(f'Accuracy and Cross Validation Score difference: {0.6178861788617886 - adcCV.mean()}')"
   ]
  },
  {
   "cell_type": "markdown",
   "metadata": {},
   "source": [
    "For the final model, we will chose SVC as it has the lowest score difference."
   ]
  },
  {
   "cell_type": "markdown",
   "metadata": {},
   "source": [
    "## Hyper Parameter Tuning and Model Saving <a name = '5'></a>"
   ]
  },
  {
   "cell_type": "code",
   "execution_count": 54,
   "metadata": {},
   "outputs": [],
   "source": [
    "#SVC Hyperparameter Tuning\n",
    "parameterSVR = {'kernel': ['linear', 'poly', 'rbf'],\n",
    "               'gamma': ['scale', 'auto'],\n",
    "               'C': [1, 0.1, 0.001, 0.0001]}"
   ]
  },
  {
   "cell_type": "code",
   "execution_count": 55,
   "metadata": {},
   "outputs": [],
   "source": [
    "svcGS = GridSearchCV(svc, cv = 5, param_grid = parameterSVR, n_jobs = -1)"
   ]
  },
  {
   "cell_type": "code",
   "execution_count": 56,
   "metadata": {},
   "outputs": [
    {
     "data": {
      "text/plain": [
       "GridSearchCV(cv=5, estimator=SVC(), n_jobs=-1,\n",
       "             param_grid={'C': [1, 0.1, 0.001, 0.0001],\n",
       "                         'gamma': ['scale', 'auto'],\n",
       "                         'kernel': ['linear', 'poly', 'rbf']})"
      ]
     },
     "execution_count": 56,
     "metadata": {},
     "output_type": "execute_result"
    }
   ],
   "source": [
    "svcGS.fit(x_train, y_train)"
   ]
  },
  {
   "cell_type": "code",
   "execution_count": 57,
   "metadata": {},
   "outputs": [
    {
     "data": {
      "text/plain": [
       "{'C': 1, 'gamma': 'scale', 'kernel': 'linear'}"
      ]
     },
     "execution_count": 57,
     "metadata": {},
     "output_type": "execute_result"
    }
   ],
   "source": [
    "svcGS.best_params_"
   ]
  },
  {
   "cell_type": "code",
   "execution_count": 58,
   "metadata": {},
   "outputs": [],
   "source": [
    "svc = SVC(C = 1, gamma = 'scale', kernel = 'rbf')"
   ]
  },
  {
   "cell_type": "code",
   "execution_count": 59,
   "metadata": {},
   "outputs": [
    {
     "data": {
      "text/plain": [
       "SVC(C=1)"
      ]
     },
     "execution_count": 59,
     "metadata": {},
     "output_type": "execute_result"
    }
   ],
   "source": [
    "svc.fit(x_train, y_train)"
   ]
  },
  {
   "cell_type": "code",
   "execution_count": 60,
   "metadata": {},
   "outputs": [],
   "source": [
    "pred = svc.predict(x_test)"
   ]
  },
  {
   "cell_type": "code",
   "execution_count": 61,
   "metadata": {},
   "outputs": [
    {
     "name": "stdout",
     "output_type": "stream",
     "text": [
      "\tSVC(C=1)\n",
      "Confusion Matrix:\n",
      "[[18 22]\n",
      " [ 2 81]]\n",
      "\n",
      "Classification Report:\n",
      "              precision    recall  f1-score   support\n",
      "\n",
      "           0       0.90      0.45      0.60        40\n",
      "           1       0.79      0.98      0.87        83\n",
      "\n",
      "    accuracy                           0.80       123\n",
      "   macro avg       0.84      0.71      0.74       123\n",
      "weighted avg       0.82      0.80      0.78       123\n",
      "\n",
      "\n",
      "F1 Score: \n",
      "0.8709677419354839\n",
      "\n",
      "Accuracy Score: 0.8048780487804879\n",
      "\n"
     ]
    }
   ],
   "source": [
    "print(f'\\t{svc}\\nConfusion Matrix:\\n{confusion_matrix(y_test, pred)}\\n')\n",
    "print(f'Classification Report:\\n{classification_report(y_test, pred)}\\n')\n",
    "print(f'F1 Score: \\n{f1_score(y_test, pred)}\\n')\n",
    "print(f'Accuracy Score: {accuracy_score(y_test, pred)}\\n')"
   ]
  },
  {
   "cell_type": "markdown",
   "metadata": {},
   "source": [
    "We were able to achieve a score of 80.5% after hyperparameter tuning."
   ]
  },
  {
   "cell_type": "code",
   "execution_count": 62,
   "metadata": {},
   "outputs": [
    {
     "data": {
      "text/plain": [
       "array([1, 1, 1, 1, 1, 1, 1, 1, 1, 0, 1, 1, 1, 0, 1, 1, 1, 1, 1, 0, 1, 1,\n",
       "       0, 1, 0, 1, 1, 1, 1, 1, 1, 1, 1, 1, 0, 1, 1, 1, 0, 1, 1, 1, 1, 1,\n",
       "       0, 1, 1, 1, 0, 0, 1, 1, 1, 1, 1, 1, 1, 0, 1, 1, 1, 1, 1, 0, 1, 1,\n",
       "       1, 1, 1, 1, 1, 1, 0, 1, 1, 1, 1, 0, 1, 1, 1, 1, 0, 1, 1, 1, 1, 1,\n",
       "       1, 1, 1, 1, 0, 1, 0, 1, 1, 1, 1, 1, 1, 1, 1, 1, 1, 1, 1, 1, 1, 1,\n",
       "       1, 1, 1, 1, 1, 1, 1, 1, 0, 0, 0, 1, 1], dtype=int64)"
      ]
     },
     "execution_count": 62,
     "metadata": {},
     "output_type": "execute_result"
    }
   ],
   "source": [
    "#Model saving and testing\n",
    "import joblib\n",
    "\n",
    "joblib.dump(svc, 'loanStatus.pkl')\n",
    "\n",
    "model = joblib.load('loanStatus.pkl')\n",
    "model.predict(x_test)"
   ]
  }
 ],
 "metadata": {
  "kernelspec": {
   "display_name": "Python 3",
   "language": "python",
   "name": "python3"
  },
  "language_info": {
   "codemirror_mode": {
    "name": "ipython",
    "version": 3
   },
   "file_extension": ".py",
   "mimetype": "text/x-python",
   "name": "python",
   "nbconvert_exporter": "python",
   "pygments_lexer": "ipython3",
   "version": "3.7.6"
  }
 },
 "nbformat": 4,
 "nbformat_minor": 4
}
