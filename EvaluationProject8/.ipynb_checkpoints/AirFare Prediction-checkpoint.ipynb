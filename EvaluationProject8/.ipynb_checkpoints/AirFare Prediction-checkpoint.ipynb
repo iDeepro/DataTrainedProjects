{
 "cells": [
  {
   "cell_type": "markdown",
   "metadata": {},
   "source": [
    "# Airfare Prediction"
   ]
  },
  {
   "cell_type": "markdown",
   "metadata": {},
   "source": [
    "## Content\n",
    "\n",
    "1. [Introduction](#1)\n",
    "2. [The Data](#2)\n",
    "3. [Exploratory Data Analysis](#3)\n",
    "4. [Analysis](#4)\n",
    "5. [Hyper Parameter Tuning](#5)\n",
    "6. [Model Saving](#6)"
   ]
  },
  {
   "cell_type": "markdown",
   "metadata": {},
   "source": [
    "## Introduction <a name = '1'></a>\n",
    "\n",
    "Airfare might be very hard to guess. Since they follow a dynamic pricing model, the prices constantly change based on demand as well as flight timings. This often leads to unpleasant suirprices while booking air tickets. \n",
    "\n",
    "This model will try to address this unpredictability issue by building a model that can predict flight ticket prices. "
   ]
  },
  {
   "cell_type": "code",
   "execution_count": 1,
   "metadata": {},
   "outputs": [],
   "source": [
    "import pandas as pd\n",
    "import numpy as np\n",
    "import scipy.stats as stat\n",
    "\n",
    "import seaborn as sns\n",
    "import matplotlib.pyplot as plt\n",
    "\n",
    "from sklearn.model_selection import train_test_split, cross_val_score\n",
    "\n",
    "from sklearn.linear_model import LinearRegression\n",
    "from sklearn.ensemble import RandomForestRegressor\n",
    "from sklearn.tree import DecisionTreeRegressor\n",
    "from sklearn.svm import SVR\n",
    "from sklearn.neighbors import KNeighborsRegressor\n",
    "from sklearn.neural_network import MLPRegressor\n",
    "\n",
    "from sklearn.model_selection import RandomizedSearchCV, GridSearchCV\n",
    "\n",
    "from sklearn.metrics import mean_squared_error, r2_score\n",
    "\n",
    "import datetime\n",
    "import warnings\n",
    "warnings.filterwarnings('ignore')"
   ]
  },
  {
   "cell_type": "markdown",
   "metadata": {},
   "source": [
    "## The Data <a name = '2'></a>"
   ]
  },
  {
   "cell_type": "code",
   "execution_count": 2,
   "metadata": {},
   "outputs": [
    {
     "data": {
      "text/html": [
       "<div>\n",
       "<style scoped>\n",
       "    .dataframe tbody tr th:only-of-type {\n",
       "        vertical-align: middle;\n",
       "    }\n",
       "\n",
       "    .dataframe tbody tr th {\n",
       "        vertical-align: top;\n",
       "    }\n",
       "\n",
       "    .dataframe thead th {\n",
       "        text-align: right;\n",
       "    }\n",
       "</style>\n",
       "<table border=\"1\" class=\"dataframe\">\n",
       "  <thead>\n",
       "    <tr style=\"text-align: right;\">\n",
       "      <th></th>\n",
       "      <th>Airline</th>\n",
       "      <th>Date_of_Journey</th>\n",
       "      <th>Source</th>\n",
       "      <th>Destination</th>\n",
       "      <th>Route</th>\n",
       "      <th>Dep_Time</th>\n",
       "      <th>Arrival_Time</th>\n",
       "      <th>Duration</th>\n",
       "      <th>Total_Stops</th>\n",
       "      <th>Additional_Info</th>\n",
       "      <th>Price</th>\n",
       "    </tr>\n",
       "  </thead>\n",
       "  <tbody>\n",
       "    <tr>\n",
       "      <th>0</th>\n",
       "      <td>IndiGo</td>\n",
       "      <td>24/03/2019</td>\n",
       "      <td>Banglore</td>\n",
       "      <td>New Delhi</td>\n",
       "      <td>BLR → DEL</td>\n",
       "      <td>22:20</td>\n",
       "      <td>01:10 22 Mar</td>\n",
       "      <td>2h 50m</td>\n",
       "      <td>non-stop</td>\n",
       "      <td>No info</td>\n",
       "      <td>3897</td>\n",
       "    </tr>\n",
       "    <tr>\n",
       "      <th>1</th>\n",
       "      <td>Air India</td>\n",
       "      <td>1/05/2019</td>\n",
       "      <td>Kolkata</td>\n",
       "      <td>Banglore</td>\n",
       "      <td>CCU → IXR → BBI → BLR</td>\n",
       "      <td>05:50</td>\n",
       "      <td>13:15</td>\n",
       "      <td>7h 25m</td>\n",
       "      <td>2 stops</td>\n",
       "      <td>No info</td>\n",
       "      <td>7662</td>\n",
       "    </tr>\n",
       "    <tr>\n",
       "      <th>2</th>\n",
       "      <td>Jet Airways</td>\n",
       "      <td>9/06/2019</td>\n",
       "      <td>Delhi</td>\n",
       "      <td>Cochin</td>\n",
       "      <td>DEL → LKO → BOM → COK</td>\n",
       "      <td>09:25</td>\n",
       "      <td>04:25 10 Jun</td>\n",
       "      <td>19h</td>\n",
       "      <td>2 stops</td>\n",
       "      <td>No info</td>\n",
       "      <td>13882</td>\n",
       "    </tr>\n",
       "    <tr>\n",
       "      <th>3</th>\n",
       "      <td>IndiGo</td>\n",
       "      <td>12/05/2019</td>\n",
       "      <td>Kolkata</td>\n",
       "      <td>Banglore</td>\n",
       "      <td>CCU → NAG → BLR</td>\n",
       "      <td>18:05</td>\n",
       "      <td>23:30</td>\n",
       "      <td>5h 25m</td>\n",
       "      <td>1 stop</td>\n",
       "      <td>No info</td>\n",
       "      <td>6218</td>\n",
       "    </tr>\n",
       "    <tr>\n",
       "      <th>4</th>\n",
       "      <td>IndiGo</td>\n",
       "      <td>01/03/2019</td>\n",
       "      <td>Banglore</td>\n",
       "      <td>New Delhi</td>\n",
       "      <td>BLR → NAG → DEL</td>\n",
       "      <td>16:50</td>\n",
       "      <td>21:35</td>\n",
       "      <td>4h 45m</td>\n",
       "      <td>1 stop</td>\n",
       "      <td>No info</td>\n",
       "      <td>13302</td>\n",
       "    </tr>\n",
       "  </tbody>\n",
       "</table>\n",
       "</div>"
      ],
      "text/plain": [
       "       Airline Date_of_Journey    Source Destination                  Route  \\\n",
       "0       IndiGo      24/03/2019  Banglore   New Delhi              BLR → DEL   \n",
       "1    Air India       1/05/2019   Kolkata    Banglore  CCU → IXR → BBI → BLR   \n",
       "2  Jet Airways       9/06/2019     Delhi      Cochin  DEL → LKO → BOM → COK   \n",
       "3       IndiGo      12/05/2019   Kolkata    Banglore        CCU → NAG → BLR   \n",
       "4       IndiGo      01/03/2019  Banglore   New Delhi        BLR → NAG → DEL   \n",
       "\n",
       "  Dep_Time  Arrival_Time Duration Total_Stops Additional_Info  Price  \n",
       "0    22:20  01:10 22 Mar   2h 50m    non-stop         No info   3897  \n",
       "1    05:50         13:15   7h 25m     2 stops         No info   7662  \n",
       "2    09:25  04:25 10 Jun      19h     2 stops         No info  13882  \n",
       "3    18:05         23:30   5h 25m      1 stop         No info   6218  \n",
       "4    16:50         21:35   4h 45m      1 stop         No info  13302  "
      ]
     },
     "execution_count": 2,
     "metadata": {},
     "output_type": "execute_result"
    }
   ],
   "source": [
    "airfareDf = pd.read_excel('Data_Train.xlsx')\n",
    "airfareDf.head()"
   ]
  },
  {
   "cell_type": "code",
   "execution_count": 3,
   "metadata": {},
   "outputs": [
    {
     "data": {
      "text/plain": [
       "(10683, 11)"
      ]
     },
     "execution_count": 3,
     "metadata": {},
     "output_type": "execute_result"
    }
   ],
   "source": [
    "airfareDf.shape"
   ]
  },
  {
   "cell_type": "markdown",
   "metadata": {},
   "source": [
    "The dataset has 10,683 rows and 11 columns."
   ]
  },
  {
   "cell_type": "markdown",
   "metadata": {},
   "source": [
    "## Exploratory Data Analysis <a name = '3'></a>"
   ]
  },
  {
   "cell_type": "code",
   "execution_count": 4,
   "metadata": {},
   "outputs": [
    {
     "data": {
      "text/plain": [
       "Airline            0\n",
       "Date_of_Journey    0\n",
       "Source             0\n",
       "Destination        0\n",
       "Route              1\n",
       "Dep_Time           0\n",
       "Arrival_Time       0\n",
       "Duration           0\n",
       "Total_Stops        1\n",
       "Additional_Info    0\n",
       "Price              0\n",
       "dtype: int64"
      ]
     },
     "execution_count": 4,
     "metadata": {},
     "output_type": "execute_result"
    }
   ],
   "source": [
    "airfareDf.isnull().sum()"
   ]
  },
  {
   "cell_type": "markdown",
   "metadata": {},
   "source": [
    "The column 'Route' and 'Total_Stops' have a missing value."
   ]
  },
  {
   "cell_type": "code",
   "execution_count": 5,
   "metadata": {},
   "outputs": [
    {
     "data": {
      "text/html": [
       "<div>\n",
       "<style scoped>\n",
       "    .dataframe tbody tr th:only-of-type {\n",
       "        vertical-align: middle;\n",
       "    }\n",
       "\n",
       "    .dataframe tbody tr th {\n",
       "        vertical-align: top;\n",
       "    }\n",
       "\n",
       "    .dataframe thead th {\n",
       "        text-align: right;\n",
       "    }\n",
       "</style>\n",
       "<table border=\"1\" class=\"dataframe\">\n",
       "  <thead>\n",
       "    <tr style=\"text-align: right;\">\n",
       "      <th></th>\n",
       "      <th>Airline</th>\n",
       "      <th>Date_of_Journey</th>\n",
       "      <th>Source</th>\n",
       "      <th>Destination</th>\n",
       "      <th>Route</th>\n",
       "      <th>Dep_Time</th>\n",
       "      <th>Arrival_Time</th>\n",
       "      <th>Duration</th>\n",
       "      <th>Total_Stops</th>\n",
       "      <th>Additional_Info</th>\n",
       "      <th>Price</th>\n",
       "    </tr>\n",
       "  </thead>\n",
       "  <tbody>\n",
       "    <tr>\n",
       "      <th>9039</th>\n",
       "      <td>Air India</td>\n",
       "      <td>6/05/2019</td>\n",
       "      <td>Delhi</td>\n",
       "      <td>Cochin</td>\n",
       "      <td>NaN</td>\n",
       "      <td>09:45</td>\n",
       "      <td>09:25 07 May</td>\n",
       "      <td>23h 40m</td>\n",
       "      <td>NaN</td>\n",
       "      <td>No info</td>\n",
       "      <td>7480</td>\n",
       "    </tr>\n",
       "  </tbody>\n",
       "</table>\n",
       "</div>"
      ],
      "text/plain": [
       "        Airline Date_of_Journey Source Destination Route Dep_Time  \\\n",
       "9039  Air India       6/05/2019  Delhi      Cochin   NaN    09:45   \n",
       "\n",
       "      Arrival_Time Duration Total_Stops Additional_Info  Price  \n",
       "9039  09:25 07 May  23h 40m         NaN         No info   7480  "
      ]
     },
     "execution_count": 5,
     "metadata": {},
     "output_type": "execute_result"
    }
   ],
   "source": [
    "#Inspecting the row with missing value\n",
    "airfareDf[airfareDf['Route'].isnull()]"
   ]
  },
  {
   "cell_type": "code",
   "execution_count": 6,
   "metadata": {},
   "outputs": [
    {
     "data": {
      "text/plain": [
       "'DEL → BOM → COK'"
      ]
     },
     "execution_count": 6,
     "metadata": {},
     "output_type": "execute_result"
    }
   ],
   "source": [
    "#finding the mode of column Route for all flight with source Delhi and destinaiton Cochin\n",
    "airfareDf[(airfareDf['Source'] == 'Delhi') & (airfareDf['Destination'] == 'Cochin')]['Route'].mode()[0]"
   ]
  },
  {
   "cell_type": "code",
   "execution_count": 7,
   "metadata": {},
   "outputs": [
    {
     "data": {
      "text/plain": [
       "0"
      ]
     },
     "execution_count": 7,
     "metadata": {},
     "output_type": "execute_result"
    }
   ],
   "source": [
    "#Replacing the mode found above in the missing place in Route column\n",
    "airfareDf['Route'] = airfareDf['Route'].fillna('DEL → BOM → COK')\n",
    "airfareDf['Route'].isnull().sum()"
   ]
  },
  {
   "cell_type": "code",
   "execution_count": 8,
   "metadata": {},
   "outputs": [
    {
     "data": {
      "text/plain": [
       "Airline            0\n",
       "Date_of_Journey    0\n",
       "Source             0\n",
       "Destination        0\n",
       "Route              0\n",
       "Dep_Time           0\n",
       "Arrival_Time       0\n",
       "Duration           0\n",
       "Total_Stops        0\n",
       "Additional_Info    0\n",
       "Price              0\n",
       "dtype: int64"
      ]
     },
     "execution_count": 8,
     "metadata": {},
     "output_type": "execute_result"
    }
   ],
   "source": [
    "#Since the mode for route is 'DEL → BOM → COK', this means there is only one stop\n",
    "#So we will replace the missing value in 'Total_Stops' with '1 stop'\n",
    "airfareDf['Total_Stops'] = airfareDf['Total_Stops'].fillna('1 stop')\n",
    "airfareDf.isnull().sum()"
   ]
  },
  {
   "cell_type": "code",
   "execution_count": 9,
   "metadata": {},
   "outputs": [
    {
     "data": {
      "text/plain": [
       "Airline            object\n",
       "Date_of_Journey    object\n",
       "Source             object\n",
       "Destination        object\n",
       "Route              object\n",
       "Dep_Time           object\n",
       "Arrival_Time       object\n",
       "Duration           object\n",
       "Total_Stops        object\n",
       "Additional_Info    object\n",
       "Price               int64\n",
       "dtype: object"
      ]
     },
     "execution_count": 9,
     "metadata": {},
     "output_type": "execute_result"
    }
   ],
   "source": [
    "#Checking dataypes\n",
    "airfareDf.dtypes"
   ]
  },
  {
   "cell_type": "markdown",
   "metadata": {},
   "source": [
    "All the columns have the correct datatype except Date column which should be DateTime datatype."
   ]
  },
  {
   "cell_type": "code",
   "execution_count": 10,
   "metadata": {},
   "outputs": [],
   "source": [
    "#Changing the datatype of date column\n",
    "airfareDf['Date_of_Journey'] = pd.to_datetime(airfareDf['Date_of_Journey']).dt.date"
   ]
  },
  {
   "cell_type": "code",
   "execution_count": 11,
   "metadata": {},
   "outputs": [],
   "source": [
    "#Using the Day_of_Jouney column to impute the day of the week and making a new column\n",
    "#0 --> Monday and 1 --> Tuesday and so on\n",
    "airfareDf['Day_of_Journey'] = airfareDf['Date_of_Journey'].map(lambda a: a.weekday())\n",
    "airfareDf.drop('Date_of_Journey', axis = 1, inplace = True)"
   ]
  },
  {
   "cell_type": "code",
   "execution_count": 12,
   "metadata": {},
   "outputs": [
    {
     "data": {
      "text/plain": [
       "[<matplotlib.lines.Line2D at 0x1ca3a3e7348>]"
      ]
     },
     "execution_count": 12,
     "metadata": {},
     "output_type": "execute_result"
    },
    {
     "data": {
      "image/png": "[encoded data removed]",
      "text/plain": [
       "<Figure size 432x288 with 1 Axes>"
      ]
     },
     "metadata": {
      "needs_background": "light"
     },
     "output_type": "display_data"
    }
   ],
   "source": [
    "plt.plot(airfareDf.groupby('Day_of_Journey')['Price'].mean())"
   ]
  },
  {
   "cell_type": "markdown",
   "metadata": {},
   "source": [
    "We see that the mean flight price is the highest on Mondays and Thrusdays while it is the lowest on Wednesdays."
   ]
  },
  {
   "cell_type": "code",
   "execution_count": 13,
   "metadata": {},
   "outputs": [
    {
     "data": {
      "text/plain": [
       "[<matplotlib.lines.Line2D at 0x1ca3a131fc8>]"
      ]
     },
     "execution_count": 13,
     "metadata": {},
     "output_type": "execute_result"
    },
    {
     "data": {
      "image/png": "[encoded data removed]",
      "text/plain": [
       "<Figure size 432x288 with 1 Axes>"
      ]
     },
     "metadata": {
      "needs_background": "light"
     },
     "output_type": "display_data"
    }
   ],
   "source": [
    "plt.plot(airfareDf.groupby('Source')['Price'].mean())"
   ]
  },
  {
   "cell_type": "markdown",
   "metadata": {},
   "source": [
    "The flights originating from Delhi have the highest mean price and those originating from Chennai and Mumbai have the lowest mean price."
   ]
  },
  {
   "cell_type": "code",
   "execution_count": 14,
   "metadata": {},
   "outputs": [
    {
     "data": {
      "text/plain": [
       "[<matplotlib.lines.Line2D at 0x1ca3a297ec8>]"
      ]
     },
     "execution_count": 14,
     "metadata": {},
     "output_type": "execute_result"
    },
    {
     "data": {
      "image/png": "[encoded data removed]",
      "text/plain": [
       "<Figure size 432x288 with 1 Axes>"
      ]
     },
     "metadata": {
      "needs_background": "light"
     },
     "output_type": "display_data"
    }
   ],
   "source": [
    "plt.plot(airfareDf.groupby('Destination')['Price'].mean())"
   ]
  },
  {
   "cell_type": "markdown",
   "metadata": {},
   "source": [
    "Flights flying to New Delhi have the highest mean price and those flying to Kolkata have the lowest mean price."
   ]
  },
  {
   "cell_type": "code",
   "execution_count": 15,
   "metadata": {},
   "outputs": [
    {
     "data": {
      "text/plain": [
       "[<matplotlib.lines.Line2D at 0x1ca3a2d1188>]"
      ]
     },
     "execution_count": 15,
     "metadata": {},
     "output_type": "execute_result"
    },
    {
     "data": {
      "image/png": "[encoded data removed]",
      "text/plain": [
       "<Figure size 432x288 with 1 Axes>"
      ]
     },
     "metadata": {
      "needs_background": "light"
     },
     "output_type": "display_data"
    }
   ],
   "source": [
    "plt.plot(airfareDf.groupby('Total_Stops')['Price'].mean())"
   ]
  },
  {
   "cell_type": "markdown",
   "metadata": {},
   "source": [
    "Non-stop flights seems to be the cheapest. As the number of stops increases, the mean flight price also increases."
   ]
  },
  {
   "cell_type": "code",
   "execution_count": 16,
   "metadata": {},
   "outputs": [],
   "source": [
    "#Checking steps to convert duration from string to int\n",
    "a = '7h 25m'.split()"
   ]
  },
  {
   "cell_type": "code",
   "execution_count": 17,
   "metadata": {},
   "outputs": [
    {
     "data": {
      "text/plain": [
       "425"
      ]
     },
     "execution_count": 17,
     "metadata": {},
     "output_type": "execute_result"
    }
   ],
   "source": [
    "(int(a[0][0])*60)+int(a[1][1])"
   ]
  },
  {
   "cell_type": "code",
   "execution_count": 18,
   "metadata": {},
   "outputs": [],
   "source": [
    "#Making a function to implement the above steps and convert duration in strings to in minutes (as int)\n",
    "def durationConverter(duration):\n",
    "    try:\n",
    "        a = duration.split()\n",
    "        if len(a) > 1:\n",
    "            return (int(a[0][0])*60)+int(a[1][1])\n",
    "        elif len(a) == 1:\n",
    "            return (int(a[0][0])*60)\n",
    "    except ValueError:\n",
    "        a = duration.split()\n",
    "        if len(a) > 1:\n",
    "            return (int(a[0][0])*60)+int(a[1][0])"
   ]
  },
  {
   "cell_type": "code",
   "execution_count": 19,
   "metadata": {},
   "outputs": [],
   "source": [
    "#Making a new column and applying the above function to get the durating in minutes\n",
    "airfareDf['Duration_in_Minutes'] = airfareDf['Duration'].map(durationConverter)"
   ]
  },
  {
   "cell_type": "code",
   "execution_count": 20,
   "metadata": {},
   "outputs": [
    {
     "data": {
      "text/plain": [
       "<AxesSubplot:xlabel='Duration_in_Minutes', ylabel='Price'>"
      ]
     },
     "execution_count": 20,
     "metadata": {},
     "output_type": "execute_result"
    },
    {
     "data": {
      "image/png": "[encoded data removed]",
      "text/plain": [
       "<Figure size 432x288 with 1 Axes>"
      ]
     },
     "metadata": {
      "needs_background": "light"
     },
     "output_type": "display_data"
    }
   ],
   "source": [
    "sns.scatterplot(x = 'Duration_in_Minutes', y = 'Price', data = airfareDf)"
   ]
  },
  {
   "cell_type": "code",
   "execution_count": 21,
   "metadata": {},
   "outputs": [
    {
     "data": {
      "text/plain": [
       "<AxesSubplot:xlabel='Duration_in_Minutes', ylabel='Price'>"
      ]
     },
     "execution_count": 21,
     "metadata": {},
     "output_type": "execute_result"
    },
    {
     "data": {
      "image/png": "[encoded data removed]",
      "text/plain": [
       "<Figure size 432x288 with 1 Axes>"
      ]
     },
     "metadata": {
      "needs_background": "light"
     },
     "output_type": "display_data"
    }
   ],
   "source": [
    "sns.regplot(x = 'Duration_in_Minutes', y = 'Price', data = airfareDf)"
   ]
  },
  {
   "cell_type": "code",
   "execution_count": 22,
   "metadata": {},
   "outputs": [
    {
     "data": {
      "text/plain": [
       "(0.12901069804693963, 7.031890473474225e-41)"
      ]
     },
     "execution_count": 22,
     "metadata": {},
     "output_type": "execute_result"
    }
   ],
   "source": [
    "stat.pearsonr(airfareDf['Duration_in_Minutes'], airfareDf['Price'])"
   ]
  },
  {
   "cell_type": "markdown",
   "metadata": {},
   "source": [
    "From the two figures and the Pearson correlation test, we see that Duration_in_Minutes is not a good predictor of Price. Therefore, we will drop this column as well the original column from where we derived the Duration_in_Minutes column."
   ]
  },
  {
   "cell_type": "code",
   "execution_count": 23,
   "metadata": {},
   "outputs": [],
   "source": [
    "#Not a big contributor. Will drop\n",
    "airfareDf.drop(['Duration', 'Duration_in_Minutes'], axis = 1, inplace = True)"
   ]
  },
  {
   "cell_type": "code",
   "execution_count": 24,
   "metadata": {},
   "outputs": [],
   "source": [
    "#The information from column Route is taken into account in the column 'Total_Stops'\n",
    "#So we will drop this column as well\n",
    "airfareDf.drop('Route', axis = 1, inplace = True)"
   ]
  },
  {
   "cell_type": "code",
   "execution_count": 25,
   "metadata": {},
   "outputs": [],
   "source": [
    "#From above we know that price increases as number od stops increase\n",
    "#Therefore, we will assign higher numbers as number of stops increase\n",
    "stopMap = {'non-stop': 0, '1 stop': 1,'2 stops': 2,'3 stops': 3, '4 stops': 4 }"
   ]
  },
  {
   "cell_type": "code",
   "execution_count": 26,
   "metadata": {},
   "outputs": [],
   "source": [
    "#LAbel encoding the 'Total_Stops' column and then droping the original 'Total_Stops column'\n",
    "airfareDf['Total_stop_encoded'] = airfareDf['Total_Stops'].map(stopMap)\n",
    "airfareDf.drop('Total_Stops', axis = 1, inplace = True)"
   ]
  },
  {
   "cell_type": "code",
   "execution_count": 27,
   "metadata": {},
   "outputs": [
    {
     "data": {
      "text/plain": [
       "No info                         8345\n",
       "In-flight meal not included     1982\n",
       "No check-in baggage included     320\n",
       "1 Long layover                    19\n",
       "Change airports                    7\n",
       "Business class                     4\n",
       "No Info                            3\n",
       "Red-eye flight                     1\n",
       "1 Short layover                    1\n",
       "2 Long layover                     1\n",
       "Name: Additional_Info, dtype: int64"
      ]
     },
     "execution_count": 27,
     "metadata": {},
     "output_type": "execute_result"
    }
   ],
   "source": [
    "#Checking the labels and their frequencies in the Addtional_Info column\n",
    "airfareDf['Additional_Info'].value_counts()"
   ]
  },
  {
   "cell_type": "code",
   "execution_count": 28,
   "metadata": {},
   "outputs": [
    {
     "data": {
      "text/plain": [
       "[<matplotlib.lines.Line2D at 0x1ca3d5db148>]"
      ]
     },
     "execution_count": 28,
     "metadata": {},
     "output_type": "execute_result"
    },
    {
     "data": {
      "image/png": "[encoded data removed]",
      "text/plain": [
       "<Figure size 1080x720 with 1 Axes>"
      ]
     },
     "metadata": {
      "needs_background": "light"
     },
     "output_type": "display_data"
    }
   ],
   "source": [
    "plt.figure(figsize=(15,10))\n",
    "plt.xticks(rotation = 45)\n",
    "plt.plot(airfareDf.groupby('Additional_Info')['Price'].mean())"
   ]
  },
  {
   "cell_type": "markdown",
   "metadata": {},
   "source": [
    "Here we see that the labels 'Business_class', '1LongLayover', '1ShortLayover' and '2LongLayover' have higer mean proce while the other labels have very low mean price. Therefore, we will perform OneHotEncoding on only these columns and ignore the rest. We will then drop the 'Additional_Info' column."
   ]
  },
  {
   "cell_type": "code",
   "execution_count": 29,
   "metadata": {},
   "outputs": [],
   "source": [
    "airfareDf['Business_class'] = np.where(airfareDf['Additional_Info'] == 'Business class', 1, 0)\n",
    "airfareDf['1LongLayover'] = np.where(airfareDf['Additional_Info'] == '1 Long layover', 1, 0)\n",
    "airfareDf['1ShortLayover'] = np.where(airfareDf['Additional_Info'] == '1 Short layover', 1, 0)\n",
    "airfareDf['2LongLayover'] = np.where(airfareDf['Additional_Info'] == '2 Long layover', 1, 0)\n",
    "\n",
    "airfareDf.drop('Additional_Info', axis = 1, inplace = True)"
   ]
  },
  {
   "cell_type": "code",
   "execution_count": 30,
   "metadata": {},
   "outputs": [
    {
     "data": {
      "text/plain": [
       "[<matplotlib.lines.Line2D at 0x1ca3d65bb48>]"
      ]
     },
     "execution_count": 30,
     "metadata": {},
     "output_type": "execute_result"
    },
    {
     "data": {
      "image/png": "[encoded data removed]",
      "text/plain": [
       "<Figure size 1080x720 with 1 Axes>"
      ]
     },
     "metadata": {
      "needs_background": "light"
     },
     "output_type": "display_data"
    }
   ],
   "source": [
    "plt.figure(figsize=(15,10))\n",
    "plt.xticks(rotation = 90)\n",
    "plt.plot(airfareDf.groupby('Airline')['Price'].mean())"
   ]
  },
  {
   "cell_type": "markdown",
   "metadata": {},
   "source": [
    "From the above we see that 'Jet Airways Business' has the highest mean while other airliners have a lower mean. We will use this information to perform label encoding of airlines. Airliners with high mean price will get high numeric labels and vise-versa."
   ]
  },
  {
   "cell_type": "code",
   "execution_count": 31,
   "metadata": {},
   "outputs": [],
   "source": [
    "airlineMap = {'Jet Airways Business': 3, \n",
    "             'Air India': 2,\n",
    "             'Jet Airways': 2,\n",
    "             'Multiple carriers': 2,\n",
    "             'Vistara Premium economy': 2,\n",
    "             'Multiple carriers Premium economy': 2,\n",
    "             'Air Asia': 1,\n",
    "             'GoAir': 1,\n",
    "             'IndiGo': 1,\n",
    "             'SpiceJet': 1,\n",
    "             'Trujet': 1,\n",
    "             'Vistara': 1}"
   ]
  },
  {
   "cell_type": "code",
   "execution_count": 32,
   "metadata": {},
   "outputs": [],
   "source": [
    "#Making a new label encoded column for airlines\n",
    "airfareDf['Airline_encoded'] = airfareDf['Airline'].map(airlineMap)\n",
    "airfareDf.drop('Airline', axis = 1, inplace = True)"
   ]
  },
  {
   "cell_type": "code",
   "execution_count": 33,
   "metadata": {},
   "outputs": [],
   "source": [
    "#Making a new column containing only the hour of the day the flight departed\n",
    "airfareDf['Dep_Time'] = airfareDf['Dep_Time'].map(lambda i: int(i.split(':')[0]))\n",
    "airfareDf = airfareDf.astype({'Dep_Time': 'int64'})"
   ]
  },
  {
   "cell_type": "code",
   "execution_count": 34,
   "metadata": {},
   "outputs": [],
   "source": [
    "#Making a new column containing only the hour of the day the flight arrived\n",
    "airfareDf['Arrival_Time'] = airfareDf['Arrival_Time'].map(lambda i: int(i.split(':')[0]))\n",
    "airfareDf = airfareDf.astype({'Arrival_Time': 'int64'})"
   ]
  },
  {
   "cell_type": "code",
   "execution_count": 35,
   "metadata": {},
   "outputs": [],
   "source": [
    "#making a function to label the period of the day based on the time\n",
    "def periodOfDay(time):\n",
    "    if time > 0 and time < 12:\n",
    "        return 'Morning'\n",
    "    elif time >=12 and time <= 17:\n",
    "        return 'Afternoon'\n",
    "    elif time >=18 and time <=23:\n",
    "        return 'Night'\n",
    "    elif time == 0:\n",
    "        return 'Night'"
   ]
  },
  {
   "cell_type": "code",
   "execution_count": 36,
   "metadata": {},
   "outputs": [],
   "source": [
    "#Making a new column and applying the function above to find the period of the day when the flight departed\n",
    "airfareDf['Dep_TimeOfDay'] = airfareDf['Dep_Time'].map(periodOfDay)"
   ]
  },
  {
   "cell_type": "code",
   "execution_count": 37,
   "metadata": {},
   "outputs": [],
   "source": [
    "#Making a new column and applying the function above to find the period of the day when the flight arrived\n",
    "airfareDf['Arrival_TimeOfDay'] = airfareDf['Arrival_Time'].map(periodOfDay)"
   ]
  },
  {
   "cell_type": "code",
   "execution_count": 38,
   "metadata": {},
   "outputs": [],
   "source": [
    "#Since we have extracted the information from these columns, we will drop them\n",
    "airfareDf.drop(['Dep_Time', 'Arrival_Time'], axis = 1, inplace = True)"
   ]
  },
  {
   "cell_type": "code",
   "execution_count": 39,
   "metadata": {},
   "outputs": [],
   "source": [
    "airfareDf = pd.get_dummies(airfareDf, columns=['Source', 'Destination', 'Dep_TimeOfDay', 'Arrival_TimeOfDay'])"
   ]
  },
  {
   "cell_type": "markdown",
   "metadata": {},
   "source": [
    "## Analysis <a name = '4'></a>"
   ]
  },
  {
   "cell_type": "code",
   "execution_count": 40,
   "metadata": {},
   "outputs": [],
   "source": [
    "x = airfareDf.drop('Price', axis = 1)\n",
    "y = airfareDf['Price']"
   ]
  },
  {
   "cell_type": "code",
   "execution_count": 41,
   "metadata": {},
   "outputs": [
    {
     "name": "stdout",
     "output_type": "stream",
     "text": [
      "Best accuracy is 60.59% on Random state 199\n"
     ]
    }
   ],
   "source": [
    "#Finding the best random state\n",
    "maxAcc = 0\n",
    "maxRs = 0\n",
    "for randState in range(0,200):\n",
    "    x_train, x_test, y_train, y_test = train_test_split(x, y, test_size=0.20, random_state=randState)\n",
    "    lr = LinearRegression()\n",
    "    lr.fit(x_train, y_train)\n",
    "    predlr = lr.predict(x_test)\n",
    "    acc = lr.score(x_test, y_test)*100\n",
    "    if acc>maxAcc:\n",
    "        maxAcc=acc\n",
    "        maxRs=randState\n",
    "print(f\"Best accuracy is {round(maxAcc, 2)}% on Random state {randState}\")"
   ]
  },
  {
   "cell_type": "code",
   "execution_count": 42,
   "metadata": {},
   "outputs": [],
   "source": [
    "#Splitting the x and y into train and test data with the best random state from above\n",
    "x_train, x_test, y_train, y_test = train_test_split(x, y, test_size=0.20, random_state=199)"
   ]
  },
  {
   "cell_type": "code",
   "execution_count": 43,
   "metadata": {},
   "outputs": [
    {
     "name": "stdout",
     "output_type": "stream",
     "text": [
      "LinearRegression()\n",
      "\tAccuracy: 0.542708883580642\n",
      "\tMSE: 10549378.458586805\n",
      "\tRMSE: 3247.980673986039\n",
      "\tR2 Score: 0.542708883580642\n",
      "\tTrain-Test difference: 0.0015565802614873059\n",
      "RandomForestRegressor()\n",
      "\tAccuracy: 0.6150532618034664\n",
      "\tMSE: 8880445.479526173\n",
      "\tRMSE: 2980.0076307832123\n",
      "\tR2 Score: 0.6150532618034664\n",
      "\tTrain-Test difference: 0.07028634587866933\n",
      "DecisionTreeRegressor()\n",
      "\tAccuracy: 0.5958351306936129\n",
      "\tMSE: 9323793.996619742\n",
      "\tRMSE: 3053.4888237260247\n",
      "\tR2 Score: 0.5958351306936129\n",
      "\tTrain-Test difference: 0.09217817916215354\n",
      "SVR()\n",
      "\tAccuracy: 0.02215431873528728\n",
      "\tMSE: 22558199.351277437\n",
      "\tRMSE: 4749.547278560078\n",
      "\tR2 Score: 0.02215431873528728\n",
      "\tTrain-Test difference: 0.010700089102840704\n",
      "KNeighborsRegressor()\n",
      "\tAccuracy: 0.5516929886968049\n",
      "\tMSE: 10342121.589649042\n",
      "\tRMSE: 3215.9169127402906\n",
      "\tR2 Score: 0.5516929886968049\n",
      "\tTrain-Test difference: 0.05547138881337932\n",
      "MLPRegressor()\n",
      "\tAccuracy: 0.4726217654272684\n",
      "\tMSE: 12166238.064915968\n",
      "\tRMSE: 3488.0134840501933\n",
      "\tR2 Score: 0.4726217654272684\n",
      "\tTrain-Test difference: 0.01598039225615866\n"
     ]
    }
   ],
   "source": [
    "#Fitting various regression models to the train data and printing their perfomance metrics one-by-one\n",
    "lr = LinearRegression()\n",
    "rfr = RandomForestRegressor()\n",
    "dtr = DecisionTreeRegressor()\n",
    "svr = SVR()\n",
    "knr = KNeighborsRegressor()\n",
    "mlp = MLPRegressor()\n",
    "\n",
    "models = [lr, rfr, dtr, svr, knr, mlp]\n",
    "\n",
    "for model in models:\n",
    "    model.fit(x_train, y_train)\n",
    "    pred = model.predict(x_test)\n",
    "    predTrain = model.predict(x_train)\n",
    "    print(f'{model}\\n\\tAccuracy: {model.score(x_test, y_test)}\\n\\tMSE: {mean_squared_error(y_test, pred)}\\n\\tRMSE: {mean_squared_error(y_test, pred)**(1/2)}\\n\\tR2 Score: {r2_score(y_test, pred)}\\n\\tTrain-Test difference: {r2_score(y_train, predTrain)-r2_score(y_test, pred)}')"
   ]
  },
  {
   "cell_type": "markdown",
   "metadata": {},
   "source": [
    "Since Linear Regression has the least train-test score difference, we will select this algorithm as the final model"
   ]
  },
  {
   "cell_type": "markdown",
   "metadata": {},
   "source": [
    "## Hyper Parameter Tuning <a name = '5'></a>"
   ]
  },
  {
   "cell_type": "code",
   "execution_count": 44,
   "metadata": {},
   "outputs": [],
   "source": [
    "#Linear Regression Hyperparameters\n",
    "lrParameters = {'fit_intercept': [True, False],\n",
    "             'normalize': [True, False],\n",
    "             'positive': [True, False]}"
   ]
  },
  {
   "cell_type": "code",
   "execution_count": 45,
   "metadata": {},
   "outputs": [],
   "source": [
    "lrGS = GridSearchCV(lr, param_grid = lrParameters, cv = 5, scoring = 'r2', n_jobs = -1)"
   ]
  },
  {
   "cell_type": "code",
   "execution_count": 46,
   "metadata": {},
   "outputs": [
    {
     "data": {
      "text/plain": [
       "GridSearchCV(cv=5, estimator=LinearRegression(), n_jobs=-1,\n",
       "             param_grid={'fit_intercept': [True, False],\n",
       "                         'normalize': [True, False],\n",
       "                         'positive': [True, False]},\n",
       "             scoring='r2')"
      ]
     },
     "execution_count": 46,
     "metadata": {},
     "output_type": "execute_result"
    }
   ],
   "source": [
    "lrGS.fit(x_train, y_train)"
   ]
  },
  {
   "cell_type": "code",
   "execution_count": 47,
   "metadata": {},
   "outputs": [
    {
     "data": {
      "text/plain": [
       "{'fit_intercept': False, 'normalize': True, 'positive': True}"
      ]
     },
     "execution_count": 47,
     "metadata": {},
     "output_type": "execute_result"
    }
   ],
   "source": [
    "lrGS.best_params_"
   ]
  },
  {
   "cell_type": "code",
   "execution_count": 48,
   "metadata": {},
   "outputs": [
    {
     "name": "stdout",
     "output_type": "stream",
     "text": [
      "R2 Score for test data after hyperparameter tuning: 0.5418924488107211\n",
      "R2 Score for train data after hyperparameter tuning: 0.5439683814798686\n"
     ]
    }
   ],
   "source": [
    "lr = LinearRegression(fit_intercept = False, normalize = True, positive = True)\n",
    "\n",
    "lr.fit(x_train, y_train)\n",
    "\n",
    "pred = lr.predict(x_test)\n",
    "predTrain = lr.predict(x_train)\n",
    "\n",
    "print(f'R2 Score for test data after hyperparameter tuning: {r2_score(y_test, pred)}')\n",
    "print(f'R2 Score for train data after hyperparameter tuning: {r2_score(y_train, predTrain)}')"
   ]
  },
  {
   "cell_type": "code",
   "execution_count": 49,
   "metadata": {},
   "outputs": [
    {
     "data": {
      "text/plain": [
       "{'n_estimators': 75, 'max_depth': 9, 'criterion': 'mse'}"
      ]
     },
     "execution_count": 49,
     "metadata": {},
     "output_type": "execute_result"
    }
   ],
   "source": [
    "from sklearn.model_selection import GridSearchCV\n",
    "parameters = {'criterion' : ['mse', 'mae'],\n",
    "             'max_depth': np.arange(2, 15),\n",
    "             'n_estimators' : [10, 50, 75, 150, 300, 600]}\n",
    "\n",
    "rsRfr = RandomizedSearchCV(rfr, parameters, cv=5, scoring = 'r2')\n",
    "rsRfr.fit(x_train, y_train)\n",
    "rsRfr.best_params_"
   ]
  },
  {
   "cell_type": "code",
   "execution_count": 50,
   "metadata": {},
   "outputs": [
    {
     "name": "stdout",
     "output_type": "stream",
     "text": [
      "R2 Score for test data after hyperparameter tuning: 0.6233935509251967\n",
      "R2 Score for train data after hyperparameter tuning: 0.6586152460749706\n"
     ]
    }
   ],
   "source": [
    "rfr = RandomForestRegressor(criterion = 'mse', max_depth = 8, n_estimators = 75)\n",
    "rfr.fit(x_train, y_train)\n",
    "\n",
    "pred = rfr.predict(x_test)\n",
    "predTrain = rfr.predict(x_train)\n",
    "\n",
    "print(f'R2 Score for test data after hyperparameter tuning: {r2_score(y_test, pred)}')\n",
    "print(f'R2 Score for train data after hyperparameter tuning: {r2_score(y_train, predTrain)}')"
   ]
  },
  {
   "cell_type": "markdown",
   "metadata": {},
   "source": [
    "## Model Saving <a name = '6'></a>"
   ]
  },
  {
   "cell_type": "code",
   "execution_count": 51,
   "metadata": {},
   "outputs": [
    {
     "data": {
      "text/plain": [
       "array([ 4461.19694387, 12747.91294875, 11170.11241576, ...,\n",
       "       12295.41119561,  9589.52395509, 13328.91717378])"
      ]
     },
     "execution_count": 51,
     "metadata": {},
     "output_type": "execute_result"
    }
   ],
   "source": [
    "import joblib\n",
    "joblib.dump(rfr, 'airfare.pkl')\n",
    "#Checking the model\n",
    "model = joblib.load('airfare.pkl')\n",
    "model.predict(x_test)"
   ]
  },
  {
   "cell_type": "code",
   "execution_count": 53,
   "metadata": {},
   "outputs": [
    {
     "data": {
      "text/plain": [
       "Airline            0\n",
       "Date_of_Journey    0\n",
       "Source             0\n",
       "Destination        0\n",
       "Route              0\n",
       "Dep_Time           0\n",
       "Arrival_Time       0\n",
       "Duration           0\n",
       "Total_Stops        0\n",
       "Additional_Info    0\n",
       "dtype: int64"
      ]
     },
     "execution_count": 53,
     "metadata": {},
     "output_type": "execute_result"
    }
   ],
   "source": [
    "#Predictinf from the test set file\n",
    "testSet = pd.read_excel('Test_set.xlsx')\n",
    "\n",
    "testSet.isnull().sum()"
   ]
  },
  {
   "cell_type": "code",
   "execution_count": 54,
   "metadata": {},
   "outputs": [],
   "source": [
    "testSet['Date_of_Journey'] = pd.to_datetime(testSet['Date_of_Journey']).dt.date\n",
    "testSet['Day_of_Journey'] = testSet['Date_of_Journey'].map(lambda a: a.weekday())\n",
    "testSet.drop('Date_of_Journey', axis = 1, inplace = True)"
   ]
  },
  {
   "cell_type": "code",
   "execution_count": 55,
   "metadata": {},
   "outputs": [],
   "source": [
    "testSet['Duration_in_Minutes'] = testSet['Duration'].map(durationConverter)"
   ]
  },
  {
   "cell_type": "code",
   "execution_count": 57,
   "metadata": {},
   "outputs": [],
   "source": [
    "testSet.drop(['Duration', 'Duration_in_Minutes'], axis = 1, inplace = True)\n",
    "testSet.drop('Route', axis = 1, inplace = True)"
   ]
  },
  {
   "cell_type": "code",
   "execution_count": 58,
   "metadata": {},
   "outputs": [],
   "source": [
    "testSet['Total_stop_encoded'] = testSet['Total_Stops'].map(stopMap)\n",
    "testSet.drop('Total_Stops', axis = 1, inplace = True)\n",
    "testSet['Business_class'] = np.where(testSet['Additional_Info'] == 'Business class', 1, 0)\n",
    "testSet['1LongLayover'] = np.where(testSet['Additional_Info'] == '1 Long layover', 1, 0)\n",
    "testSet['1ShortLayover'] = np.where(testSet['Additional_Info'] == '1 Short layover', 1, 0)\n",
    "testSet['2LongLayover'] = np.where(testSet['Additional_Info'] == '2 Long layover', 1, 0)\n",
    "\n",
    "testSet.drop('Additional_Info', axis = 1, inplace = True)"
   ]
  },
  {
   "cell_type": "code",
   "execution_count": 59,
   "metadata": {},
   "outputs": [],
   "source": [
    "testSet['Airline_encoded'] = testSet['Airline'].map(airlineMap)\n",
    "testSet.drop('Airline', axis = 1, inplace = True)\n",
    "testSet['Dep_Time'] = testSet['Dep_Time'].map(lambda i: int(i.split(':')[0]))\n",
    "testSet = testSet.astype({'Dep_Time': 'int64'})\n",
    "testSet['Arrival_Time'] = testSet['Arrival_Time'].map(lambda i: int(i.split(':')[0]))\n",
    "testSet = testSet.astype({'Arrival_Time': 'int64'})"
   ]
  },
  {
   "cell_type": "code",
   "execution_count": 60,
   "metadata": {},
   "outputs": [],
   "source": [
    "testSet['Dep_TimeOfDay'] = testSet['Dep_Time'].map(periodOfDay)\n",
    "testSet['Arrival_TimeOfDay'] = testSet['Arrival_Time'].map(periodOfDay)\n",
    "testSet.drop(['Dep_Time', 'Arrival_Time'], axis = 1, inplace = True)\n",
    "testSet = pd.get_dummies(testSet, columns=['Source', 'Destination', 'Dep_TimeOfDay', 'Arrival_TimeOfDay'])"
   ]
  },
  {
   "cell_type": "code",
   "execution_count": 61,
   "metadata": {},
   "outputs": [
    {
     "data": {
      "text/plain": [
       "array([10524.67817656,  7339.25533753, 12192.87028391, ...,\n",
       "       12072.50619204, 11721.13840981, 10518.49876882])"
      ]
     },
     "execution_count": 61,
     "metadata": {},
     "output_type": "execute_result"
    }
   ],
   "source": [
    "model.predict(testSet)"
   ]
  },
  {
   "cell_type": "code",
   "execution_count": null,
   "metadata": {},
   "outputs": [],
   "source": []
  }
 ],
 "metadata": {
  "kernelspec": {
   "display_name": "Python 3",
   "language": "python",
   "name": "python3"
  },
  "language_info": {
   "codemirror_mode": {
    "name": "ipython",
    "version": 3
   },
   "file_extension": ".py",
   "mimetype": "text/x-python",
   "name": "python",
   "nbconvert_exporter": "python",
   "pygments_lexer": "ipython3",
   "version": "3.7.6"
  }
 },
 "nbformat": 4,
 "nbformat_minor": 4
}
